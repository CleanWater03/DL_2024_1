{
  "cells": [
    {
      "cell_type": "markdown",
      "metadata": {
        "id": "6fcNJ9ngWdao"
      },
      "source": [
        "이 노트북은 [케라스 창시자에게 배우는 딥러닝 2판](https://tensorflow.blog/kerasdl2/)의 예제 코드를 담고 있습니다.\n",
        "\n",
        "<table align=\"left\">\n",
        "    <tr>\n",
        "        <td>\n",
        "            <a href=\"https://colab.research.google.com/github/rickiepark/deep-learning-with-python-2nd/blob/main/chapter09_part02_modern-convnet-architecture-patterns.ipynb\" target=\"_parent\"><img src=\"https://colab.research.google.com/assets/colab-badge.svg\" alt=\"Open In Colab\"/></a>\n",
        "        </td>\n",
        "    </tr>\n",
        "</table>"
      ]
    },
    {
      "cell_type": "markdown",
      "metadata": {
        "id": "V6vyo9pMWdar"
      },
      "source": [
        "## 최신 컨브넷 아키텍처 패턴"
      ]
    },
    {
      "cell_type": "markdown",
      "metadata": {
        "id": "wRLUswhpWdar"
      },
      "source": [
        "### 모듈화, 계층화 그리고 재사용"
      ]
    },
    {
      "cell_type": "markdown",
      "metadata": {
        "id": "DrVGd0xfWdas"
      },
      "source": [
        "### 잔차 연결"
      ]
    },
    {
      "cell_type": "markdown",
      "metadata": {
        "id": "z3p_4BtQWdas"
      },
      "source": [
        "**필터 개수가 변경되는 잔차 블록**"
      ]
    },
    {
      "cell_type": "code",
      "execution_count": null,
      "metadata": {
        "id": "_sMjx-EsWdas"
      },
      "outputs": [],
      "source": [
        "from tensorflow import keras\n",
        "from tensorflow.keras import layers\n",
        "\n",
        "inputs = keras.Input(shape=(32, 32, 3))\n",
        "x = layers.Conv2D(32, 3, activation=\"relu\")(inputs)\n",
        "residual = x\n",
        "x = layers.Conv2D(64, 3, activation=\"relu\", padding=\"same\")(x)\n",
        "residual = layers.Conv2D(64, 1)(residual)\n",
        "x = layers.add([x, residual])"
      ]
    },
    {
      "cell_type": "markdown",
      "metadata": {
        "id": "0qicvVeLWdav"
      },
      "source": [
        "**최대 풀링 층을 가진 잔차 블록**"
      ]
    },
    {
      "cell_type": "code",
      "execution_count": null,
      "metadata": {
        "id": "VujtXbBHWdav"
      },
      "outputs": [],
      "source": [
        "inputs = keras.Input(shape=(32, 32, 3))\n",
        "x = layers.Conv2D(32, 3, activation=\"relu\")(inputs)\n",
        "residual = x\n",
        "x = layers.Conv2D(64, 3, activation=\"relu\", padding=\"same\")(x)\n",
        "x = layers.MaxPooling2D(2, padding=\"same\")(x)\n",
        "residual = layers.Conv2D(64, 1, strides=2)(residual)\n",
        "x = layers.add([x, residual])"
      ]
    },
    {
      "cell_type": "code",
      "execution_count": null,
      "metadata": {
        "colab": {
          "base_uri": "https://localhost:8080/"
        },
        "id": "gqRZwb1eWdaw",
        "outputId": "3be96d04-52a2-42e8-e88c-343f15ded1a8"
      },
      "outputs": [
        {
          "output_type": "stream",
          "name": "stdout",
          "text": [
            "Model: \"model\"\n",
            "__________________________________________________________________________________________________\n",
            " Layer (type)                Output Shape                 Param #   Connected to                  \n",
            "==================================================================================================\n",
            " input_3 (InputLayer)        [(None, 32, 32, 3)]          0         []                            \n",
            "                                                                                                  \n",
            " rescaling (Rescaling)       (None, 32, 32, 3)            0         ['input_3[0][0]']             \n",
            "                                                                                                  \n",
            " conv2d_6 (Conv2D)           (None, 32, 32, 32)           896       ['rescaling[0][0]']           \n",
            "                                                                                                  \n",
            " conv2d_7 (Conv2D)           (None, 32, 32, 32)           9248      ['conv2d_6[0][0]']            \n",
            "                                                                                                  \n",
            " max_pooling2d_1 (MaxPoolin  (None, 16, 16, 32)           0         ['conv2d_7[0][0]']            \n",
            " g2D)                                                                                             \n",
            "                                                                                                  \n",
            " conv2d_8 (Conv2D)           (None, 16, 16, 32)           128       ['rescaling[0][0]']           \n",
            "                                                                                                  \n",
            " add_2 (Add)                 (None, 16, 16, 32)           0         ['max_pooling2d_1[0][0]',     \n",
            "                                                                     'conv2d_8[0][0]']            \n",
            "                                                                                                  \n",
            " conv2d_9 (Conv2D)           (None, 16, 16, 64)           18496     ['add_2[0][0]']               \n",
            "                                                                                                  \n",
            " conv2d_10 (Conv2D)          (None, 16, 16, 64)           36928     ['conv2d_9[0][0]']            \n",
            "                                                                                                  \n",
            " max_pooling2d_2 (MaxPoolin  (None, 8, 8, 64)             0         ['conv2d_10[0][0]']           \n",
            " g2D)                                                                                             \n",
            "                                                                                                  \n",
            " conv2d_11 (Conv2D)          (None, 8, 8, 64)             2112      ['add_2[0][0]']               \n",
            "                                                                                                  \n",
            " add_3 (Add)                 (None, 8, 8, 64)             0         ['max_pooling2d_2[0][0]',     \n",
            "                                                                     'conv2d_11[0][0]']           \n",
            "                                                                                                  \n",
            " conv2d_12 (Conv2D)          (None, 8, 8, 128)            73856     ['add_3[0][0]']               \n",
            "                                                                                                  \n",
            " conv2d_13 (Conv2D)          (None, 8, 8, 128)            147584    ['conv2d_12[0][0]']           \n",
            "                                                                                                  \n",
            " conv2d_14 (Conv2D)          (None, 8, 8, 128)            8320      ['add_3[0][0]']               \n",
            "                                                                                                  \n",
            " add_4 (Add)                 (None, 8, 8, 128)            0         ['conv2d_13[0][0]',           \n",
            "                                                                     'conv2d_14[0][0]']           \n",
            "                                                                                                  \n",
            " global_average_pooling2d (  (None, 128)                  0         ['add_4[0][0]']               \n",
            " GlobalAveragePooling2D)                                                                          \n",
            "                                                                                                  \n",
            " dense (Dense)               (None, 1)                    129       ['global_average_pooling2d[0][\n",
            "                                                                    0]']                          \n",
            "                                                                                                  \n",
            "==================================================================================================\n",
            "Total params: 297697 (1.14 MB)\n",
            "Trainable params: 297697 (1.14 MB)\n",
            "Non-trainable params: 0 (0.00 Byte)\n",
            "__________________________________________________________________________________________________\n"
          ]
        }
      ],
      "source": [
        "inputs = keras.Input(shape=(32, 32, 3))\n",
        "x = layers.Rescaling(1./255)(inputs)\n",
        "\n",
        "def residual_block(x, filters, pooling=False):\n",
        "    residual = x\n",
        "    x = layers.Conv2D(filters, 3, activation=\"relu\", padding=\"same\")(x)\n",
        "    x = layers.Conv2D(filters, 3, activation=\"relu\", padding=\"same\")(x)\n",
        "    if pooling:\n",
        "        x = layers.MaxPooling2D(2, padding=\"same\")(x)\n",
        "        residual = layers.Conv2D(filters, 1, strides=2)(residual)\n",
        "    elif filters != residual.shape[-1]:\n",
        "        residual = layers.Conv2D(filters, 1)(residual)\n",
        "    x = layers.add([x, residual])\n",
        "    return x\n",
        "\n",
        "x = residual_block(x, filters=32, pooling=True)\n",
        "x = residual_block(x, filters=64, pooling=True)\n",
        "x = residual_block(x, filters=128, pooling=False)\n",
        "\n",
        "x = layers.GlobalAveragePooling2D()(x)\n",
        "outputs = layers.Dense(1, activation=\"sigmoid\")(x)\n",
        "model = keras.Model(inputs=inputs, outputs=outputs)\n",
        "model.summary()"
      ]
    },
    {
      "cell_type": "markdown",
      "metadata": {
        "id": "2yTgvoeKWdaw"
      },
      "source": [
        "### 배치 정규화"
      ]
    },
    {
      "cell_type": "markdown",
      "metadata": {
        "id": "JPKA2OB7Wdax"
      },
      "source": [
        "### 깊이별 분리 합성곱"
      ]
    },
    {
      "cell_type": "markdown",
      "metadata": {
        "id": "RkVCpdH6Wdax"
      },
      "source": [
        "### Xception 유사 모델에 모두 적용하기"
      ]
    },
    {
      "cell_type": "markdown",
      "metadata": {
        "id": "rJP0kj1tRe_e"
      },
      "source": [
        "캐글에서 dogs-vs-cats 데이터셋을 다운로드하려면 캐글에 가입해야 한 후 생성한 API 키를 사용해야 합니다. 다운로드에 문제가 있다면 다음 명령으로 구글 드라이브에서 직접 다운로드할 수 있습니다."
      ]
    },
    {
      "cell_type": "code",
      "source": [
        "import gdown\n",
        "gdown.download(id='18uC7WTuEXKJDDxbj-Jq6EjzpFrgE7IAd', output='dogs-vs-cats.zip')"
      ],
      "metadata": {
        "id": "R_H-D_xsuK4h",
        "outputId": "6a28a448-4aa8-431b-e703-c6c7e1e9ad24",
        "colab": {
          "base_uri": "https://localhost:8080/",
          "height": 107
        }
      },
      "execution_count": null,
      "outputs": [
        {
          "output_type": "stream",
          "name": "stderr",
          "text": [
            "Downloading...\n",
            "From: https://drive.google.com/uc?id=18uC7WTuEXKJDDxbj-Jq6EjzpFrgE7IAd\n",
            "To: /content/dogs-vs-cats.zip\n",
            "100%|██████████| 852M/852M [00:17<00:00, 49.2MB/s]\n"
          ]
        },
        {
          "output_type": "execute_result",
          "data": {
            "text/plain": [
              "'dogs-vs-cats.zip'"
            ],
            "application/vnd.google.colaboratory.intrinsic+json": {
              "type": "string"
            }
          },
          "metadata": {},
          "execution_count": 4
        }
      ]
    },
    {
      "cell_type": "markdown",
      "source": [
        "코랩의 Secrets 탭에 캐글 키를 저장해 놓았다면 다음처럼 노트북에서 불러올 수 있습니다. Secrets에 저장한 키 이름이 `'kaggle'`이라 가정합니다.\n",
        "\n",
        "```python\n",
        "from google.colab import userdata\n",
        "key = userdata.get('kaggle')\n",
        "with open('kaggle.json', 'w') as f:\n",
        "    f.write(f'{{\"username\":\"haesunpark\",\"key\":\"{key}\"}}')\n",
        "```"
      ],
      "metadata": {
        "id": "9kwJ5oLAWdax"
      }
    },
    {
      "cell_type": "markdown",
      "source": [
        "또는 로컬 컴퓨터에 저장되어 있는 `'kaggle.json'` 파일을 직접 코랩에 업로드할 수 있습니다.\n",
        "```python\n",
        "# kaggle.json 파일을 업로드하세요.\n",
        "from google.colab import files\n",
        "files.upload()\n",
        "```"
      ],
      "metadata": {
        "id": "UMf82mhduZV4"
      }
    },
    {
      "cell_type": "markdown",
      "source": [
        "`'kaggle.json'` 파일이 생성되었다면 적절한 위치로 이동시키고 파일 권한을 변경한 다음 캐글에서 데이터를 다운로드합니다.\n",
        "\n",
        "```bash\n",
        "!mkdir ~/.kaggle\n",
        "!cp kaggle.json ~/.kaggle/\n",
        "!chmod 600 ~/.kaggle/kaggle.json\n",
        "!kaggle competitions download -c dogs-vs-cats\n",
        "```"
      ],
      "metadata": {
        "id": "ZSOaTdZ7Re_f"
      }
    },
    {
      "cell_type": "code",
      "execution_count": null,
      "metadata": {
        "id": "HQRYmlcoWdax"
      },
      "outputs": [],
      "source": [
        "!unzip -qq dogs-vs-cats.zip\n",
        "!unzip -qq train.zip"
      ]
    },
    {
      "cell_type": "code",
      "execution_count": null,
      "metadata": {
        "colab": {
          "base_uri": "https://localhost:8080/"
        },
        "id": "1TQ1jwjAWday",
        "outputId": "9d774aa4-50f9-41c1-9c32-3a1a7871f967"
      },
      "outputs": [
        {
          "output_type": "stream",
          "name": "stdout",
          "text": [
            "Found 2000 files belonging to 2 classes.\n",
            "Found 1000 files belonging to 2 classes.\n",
            "Found 2000 files belonging to 2 classes.\n"
          ]
        }
      ],
      "source": [
        "import os, shutil, pathlib\n",
        "from tensorflow.keras.utils import image_dataset_from_directory\n",
        "\n",
        "original_dir = pathlib.Path(\"train\")\n",
        "new_base_dir = pathlib.Path(\"cats_vs_dogs_small\")\n",
        "\n",
        "def make_subset(subset_name, start_index, end_index):\n",
        "    for category in (\"cat\", \"dog\"):\n",
        "        dir = new_base_dir / subset_name / category\n",
        "        os.makedirs(dir)\n",
        "        fnames = [f\"{category}.{i}.jpg\" for i in range(start_index, end_index)]\n",
        "        for fname in fnames:\n",
        "            shutil.copyfile(src=original_dir / fname,\n",
        "                            dst=dir / fname)\n",
        "\n",
        "make_subset(\"train\", start_index=0, end_index=1000)\n",
        "make_subset(\"validation\", start_index=1000, end_index=1500)\n",
        "make_subset(\"test\", start_index=1500, end_index=2500)\n",
        "\n",
        "train_dataset = image_dataset_from_directory(\n",
        "    new_base_dir / \"train\",\n",
        "    image_size=(180, 180),\n",
        "    batch_size=32)\n",
        "validation_dataset = image_dataset_from_directory(\n",
        "    new_base_dir / \"validation\",\n",
        "    image_size=(180, 180),\n",
        "    batch_size=32)\n",
        "test_dataset = image_dataset_from_directory(\n",
        "    new_base_dir / \"test\",\n",
        "    image_size=(180, 180),\n",
        "    batch_size=32)"
      ]
    },
    {
      "cell_type": "code",
      "execution_count": null,
      "metadata": {
        "id": "ocyuOyHbWday"
      },
      "outputs": [],
      "source": [
        "data_augmentation = keras.Sequential(\n",
        "    [\n",
        "        layers.RandomFlip(\"horizontal\"),\n",
        "        layers.RandomRotation(0.1),\n",
        "        layers.RandomZoom(0.2),\n",
        "    ]\n",
        ")"
      ]
    },
    {
      "cell_type": "code",
      "execution_count": null,
      "metadata": {
        "id": "-qBdzynbWday"
      },
      "outputs": [],
      "source": [
        "inputs = keras.Input(shape=(180, 180, 3))\n",
        "x = data_augmentation(inputs)\n",
        "\n",
        "x = layers.Rescaling(1./255)(x)\n",
        "x = layers.Conv2D(filters=32, kernel_size=5, use_bias=False)(x)\n",
        "\n",
        "for size in [32, 64, 128, 256, 512]:\n",
        "    residual = x\n",
        "\n",
        "    x = layers.BatchNormalization()(x)\n",
        "    x = layers.Activation(\"relu\")(x)\n",
        "    x = layers.SeparableConv2D(size, 3, padding=\"same\", use_bias=False)(x)\n",
        "\n",
        "    x = layers.BatchNormalization()(x)\n",
        "    x = layers.Activation(\"relu\")(x)\n",
        "    x = layers.SeparableConv2D(size, 3, padding=\"same\", use_bias=False)(x)\n",
        "\n",
        "    x = layers.MaxPooling2D(3, strides=2, padding=\"same\")(x)\n",
        "\n",
        "    residual = layers.Conv2D(\n",
        "        size, 1, strides=2, padding=\"same\", use_bias=False)(residual)\n",
        "    x = layers.add([x, residual])\n",
        "\n",
        "x = layers.GlobalAveragePooling2D()(x)\n",
        "x = layers.Dropout(0.5)(x)\n",
        "outputs = layers.Dense(1, activation=\"sigmoid\")(x)\n",
        "model = keras.Model(inputs=inputs, outputs=outputs)"
      ]
    },
    {
      "cell_type": "code",
      "execution_count": null,
      "metadata": {
        "colab": {
          "base_uri": "https://localhost:8080/"
        },
        "id": "p4rMrBCmWdaz",
        "outputId": "5240a373-04c9-415b-9dc8-59ef1147d202"
      },
      "outputs": [
        {
          "output_type": "stream",
          "name": "stdout",
          "text": [
            "Epoch 1/100\n",
            "63/63 [==============================] - 23s 125ms/step - loss: 0.6946 - accuracy: 0.5690 - val_loss: 0.6927 - val_accuracy: 0.5510\n",
            "Epoch 2/100\n",
            "63/63 [==============================] - 5s 70ms/step - loss: 0.6635 - accuracy: 0.6055 - val_loss: 0.6943 - val_accuracy: 0.5000\n",
            "Epoch 3/100\n",
            "63/63 [==============================] - 5s 69ms/step - loss: 0.6491 - accuracy: 0.6175 - val_loss: 0.6975 - val_accuracy: 0.5000\n",
            "Epoch 4/100\n",
            "63/63 [==============================] - 6s 86ms/step - loss: 0.6202 - accuracy: 0.6715 - val_loss: 0.7487 - val_accuracy: 0.5000\n",
            "Epoch 5/100\n",
            "63/63 [==============================] - 5s 69ms/step - loss: 0.6157 - accuracy: 0.6560 - val_loss: 0.7567 - val_accuracy: 0.5000\n",
            "Epoch 6/100\n",
            "63/63 [==============================] - 6s 84ms/step - loss: 0.5925 - accuracy: 0.6940 - val_loss: 0.7327 - val_accuracy: 0.5000\n",
            "Epoch 7/100\n",
            "63/63 [==============================] - 4s 68ms/step - loss: 0.5812 - accuracy: 0.7070 - val_loss: 0.9060 - val_accuracy: 0.5100\n",
            "Epoch 8/100\n",
            "63/63 [==============================] - 5s 71ms/step - loss: 0.5744 - accuracy: 0.7050 - val_loss: 0.8647 - val_accuracy: 0.5160\n",
            "Epoch 9/100\n",
            "63/63 [==============================] - 6s 87ms/step - loss: 0.5369 - accuracy: 0.7350 - val_loss: 0.5823 - val_accuracy: 0.6710\n",
            "Epoch 10/100\n",
            "63/63 [==============================] - 4s 68ms/step - loss: 0.5316 - accuracy: 0.7510 - val_loss: 0.6305 - val_accuracy: 0.6440\n",
            "Epoch 11/100\n",
            "63/63 [==============================] - 5s 81ms/step - loss: 0.5202 - accuracy: 0.7485 - val_loss: 0.6611 - val_accuracy: 0.6500\n",
            "Epoch 12/100\n",
            "63/63 [==============================] - 5s 69ms/step - loss: 0.5060 - accuracy: 0.7560 - val_loss: 0.6355 - val_accuracy: 0.6720\n",
            "Epoch 13/100\n",
            "63/63 [==============================] - 6s 88ms/step - loss: 0.4900 - accuracy: 0.7660 - val_loss: 0.7268 - val_accuracy: 0.6680\n",
            "Epoch 14/100\n",
            "63/63 [==============================] - 6s 91ms/step - loss: 0.4908 - accuracy: 0.7620 - val_loss: 0.5663 - val_accuracy: 0.7200\n",
            "Epoch 15/100\n",
            "63/63 [==============================] - 4s 68ms/step - loss: 0.4757 - accuracy: 0.7850 - val_loss: 0.5607 - val_accuracy: 0.7070\n",
            "Epoch 16/100\n",
            "63/63 [==============================] - 6s 86ms/step - loss: 0.4706 - accuracy: 0.7850 - val_loss: 0.9293 - val_accuracy: 0.6130\n",
            "Epoch 17/100\n",
            "63/63 [==============================] - 5s 69ms/step - loss: 0.4435 - accuracy: 0.8030 - val_loss: 1.2253 - val_accuracy: 0.5940\n",
            "Epoch 18/100\n",
            "63/63 [==============================] - 5s 81ms/step - loss: 0.4367 - accuracy: 0.8055 - val_loss: 1.1940 - val_accuracy: 0.6060\n",
            "Epoch 19/100\n",
            "63/63 [==============================] - 5s 69ms/step - loss: 0.4222 - accuracy: 0.8025 - val_loss: 0.6517 - val_accuracy: 0.7190\n",
            "Epoch 20/100\n",
            "63/63 [==============================] - 6s 88ms/step - loss: 0.4150 - accuracy: 0.8135 - val_loss: 0.4697 - val_accuracy: 0.7840\n",
            "Epoch 21/100\n",
            "63/63 [==============================] - 5s 72ms/step - loss: 0.4136 - accuracy: 0.8140 - val_loss: 0.7576 - val_accuracy: 0.6760\n",
            "Epoch 22/100\n",
            "63/63 [==============================] - 5s 84ms/step - loss: 0.4223 - accuracy: 0.8105 - val_loss: 0.8984 - val_accuracy: 0.6450\n",
            "Epoch 23/100\n",
            "63/63 [==============================] - 5s 68ms/step - loss: 0.3857 - accuracy: 0.8310 - val_loss: 0.5109 - val_accuracy: 0.7510\n",
            "Epoch 24/100\n",
            "63/63 [==============================] - 6s 88ms/step - loss: 0.4005 - accuracy: 0.8160 - val_loss: 0.4694 - val_accuracy: 0.7980\n",
            "Epoch 25/100\n",
            "63/63 [==============================] - 5s 69ms/step - loss: 0.3755 - accuracy: 0.8355 - val_loss: 0.9264 - val_accuracy: 0.6810\n",
            "Epoch 26/100\n",
            "63/63 [==============================] - 6s 92ms/step - loss: 0.3570 - accuracy: 0.8415 - val_loss: 0.5405 - val_accuracy: 0.7570\n",
            "Epoch 27/100\n",
            "63/63 [==============================] - 5s 68ms/step - loss: 0.3534 - accuracy: 0.8445 - val_loss: 0.6165 - val_accuracy: 0.7450\n",
            "Epoch 28/100\n",
            "63/63 [==============================] - 5s 68ms/step - loss: 0.3674 - accuracy: 0.8390 - val_loss: 0.8126 - val_accuracy: 0.7080\n",
            "Epoch 29/100\n",
            "63/63 [==============================] - 6s 85ms/step - loss: 0.3666 - accuracy: 0.8395 - val_loss: 0.4645 - val_accuracy: 0.7840\n",
            "Epoch 30/100\n",
            "63/63 [==============================] - 6s 84ms/step - loss: 0.3490 - accuracy: 0.8510 - val_loss: 0.5679 - val_accuracy: 0.7600\n",
            "Epoch 31/100\n",
            "63/63 [==============================] - 5s 68ms/step - loss: 0.3476 - accuracy: 0.8365 - val_loss: 0.6251 - val_accuracy: 0.7630\n",
            "Epoch 32/100\n",
            "63/63 [==============================] - 5s 68ms/step - loss: 0.3386 - accuracy: 0.8490 - val_loss: 0.6847 - val_accuracy: 0.7470\n",
            "Epoch 33/100\n",
            "63/63 [==============================] - 6s 84ms/step - loss: 0.3223 - accuracy: 0.8655 - val_loss: 0.4961 - val_accuracy: 0.7820\n",
            "Epoch 34/100\n",
            "63/63 [==============================] - 5s 70ms/step - loss: 0.3352 - accuracy: 0.8610 - val_loss: 0.4015 - val_accuracy: 0.8160\n",
            "Epoch 35/100\n",
            "63/63 [==============================] - 5s 83ms/step - loss: 0.3191 - accuracy: 0.8665 - val_loss: 0.4262 - val_accuracy: 0.8110\n",
            "Epoch 36/100\n",
            "63/63 [==============================] - 6s 88ms/step - loss: 0.3035 - accuracy: 0.8690 - val_loss: 0.4562 - val_accuracy: 0.8100\n",
            "Epoch 37/100\n",
            "63/63 [==============================] - 5s 70ms/step - loss: 0.2938 - accuracy: 0.8820 - val_loss: 0.5622 - val_accuracy: 0.7790\n",
            "Epoch 38/100\n",
            "63/63 [==============================] - 5s 80ms/step - loss: 0.2929 - accuracy: 0.8690 - val_loss: 0.4843 - val_accuracy: 0.7970\n",
            "Epoch 39/100\n",
            "63/63 [==============================] - 5s 70ms/step - loss: 0.2701 - accuracy: 0.8850 - val_loss: 0.4847 - val_accuracy: 0.7940\n",
            "Epoch 40/100\n",
            "63/63 [==============================] - 6s 87ms/step - loss: 0.2817 - accuracy: 0.8850 - val_loss: 0.4864 - val_accuracy: 0.7940\n",
            "Epoch 41/100\n",
            "63/63 [==============================] - 5s 68ms/step - loss: 0.2638 - accuracy: 0.8865 - val_loss: 0.8037 - val_accuracy: 0.7640\n",
            "Epoch 42/100\n",
            "63/63 [==============================] - 6s 92ms/step - loss: 0.2883 - accuracy: 0.8760 - val_loss: 0.5113 - val_accuracy: 0.8210\n",
            "Epoch 43/100\n",
            "63/63 [==============================] - 5s 71ms/step - loss: 0.2479 - accuracy: 0.8855 - val_loss: 0.8061 - val_accuracy: 0.7730\n",
            "Epoch 44/100\n",
            "63/63 [==============================] - 5s 70ms/step - loss: 0.2762 - accuracy: 0.8870 - val_loss: 0.5445 - val_accuracy: 0.8030\n",
            "Epoch 45/100\n",
            "63/63 [==============================] - 6s 86ms/step - loss: 0.2887 - accuracy: 0.8820 - val_loss: 0.3525 - val_accuracy: 0.8460\n",
            "Epoch 46/100\n",
            "63/63 [==============================] - 5s 70ms/step - loss: 0.2555 - accuracy: 0.8875 - val_loss: 0.5561 - val_accuracy: 0.8100\n",
            "Epoch 47/100\n",
            "63/63 [==============================] - 6s 93ms/step - loss: 0.2547 - accuracy: 0.8885 - val_loss: 0.4853 - val_accuracy: 0.8290\n",
            "Epoch 48/100\n",
            "63/63 [==============================] - 5s 69ms/step - loss: 0.2458 - accuracy: 0.8995 - val_loss: 0.5512 - val_accuracy: 0.8320\n",
            "Epoch 49/100\n",
            "63/63 [==============================] - 5s 69ms/step - loss: 0.2370 - accuracy: 0.8950 - val_loss: 1.6119 - val_accuracy: 0.7070\n",
            "Epoch 50/100\n",
            "63/63 [==============================] - 6s 87ms/step - loss: 0.2314 - accuracy: 0.9005 - val_loss: 0.6155 - val_accuracy: 0.7930\n",
            "Epoch 51/100\n",
            "63/63 [==============================] - 4s 68ms/step - loss: 0.2322 - accuracy: 0.9055 - val_loss: 0.3525 - val_accuracy: 0.8460\n",
            "Epoch 52/100\n",
            "63/63 [==============================] - 6s 94ms/step - loss: 0.2346 - accuracy: 0.9015 - val_loss: 0.6413 - val_accuracy: 0.7970\n",
            "Epoch 53/100\n",
            "63/63 [==============================] - 5s 68ms/step - loss: 0.2138 - accuracy: 0.9145 - val_loss: 0.4114 - val_accuracy: 0.8290\n",
            "Epoch 54/100\n",
            "63/63 [==============================] - 5s 70ms/step - loss: 0.2118 - accuracy: 0.9095 - val_loss: 0.7264 - val_accuracy: 0.7990\n",
            "Epoch 55/100\n",
            "63/63 [==============================] - 5s 80ms/step - loss: 0.2071 - accuracy: 0.9245 - val_loss: 1.0334 - val_accuracy: 0.7220\n",
            "Epoch 56/100\n",
            "63/63 [==============================] - 5s 69ms/step - loss: 0.1964 - accuracy: 0.9190 - val_loss: 0.4229 - val_accuracy: 0.8500\n",
            "Epoch 57/100\n",
            "63/63 [==============================] - 5s 82ms/step - loss: 0.2009 - accuracy: 0.9175 - val_loss: 0.5565 - val_accuracy: 0.8280\n",
            "Epoch 58/100\n",
            "63/63 [==============================] - 5s 69ms/step - loss: 0.1967 - accuracy: 0.9140 - val_loss: 0.8254 - val_accuracy: 0.7590\n",
            "Epoch 59/100\n",
            "63/63 [==============================] - 5s 69ms/step - loss: 0.1864 - accuracy: 0.9255 - val_loss: 0.4731 - val_accuracy: 0.8420\n",
            "Epoch 60/100\n",
            "63/63 [==============================] - 6s 85ms/step - loss: 0.2083 - accuracy: 0.9145 - val_loss: 0.4107 - val_accuracy: 0.8470\n",
            "Epoch 61/100\n",
            "63/63 [==============================] - 5s 70ms/step - loss: 0.1688 - accuracy: 0.9320 - val_loss: 0.4085 - val_accuracy: 0.8540\n",
            "Epoch 62/100\n",
            "63/63 [==============================] - 6s 94ms/step - loss: 0.1834 - accuracy: 0.9275 - val_loss: 0.6121 - val_accuracy: 0.8330\n",
            "Epoch 63/100\n",
            "63/63 [==============================] - 5s 68ms/step - loss: 0.1764 - accuracy: 0.9295 - val_loss: 0.4571 - val_accuracy: 0.8460\n",
            "Epoch 64/100\n",
            "63/63 [==============================] - 6s 87ms/step - loss: 0.1812 - accuracy: 0.9255 - val_loss: 0.7324 - val_accuracy: 0.8110\n",
            "Epoch 65/100\n",
            "63/63 [==============================] - 5s 69ms/step - loss: 0.2059 - accuracy: 0.9140 - val_loss: 0.5492 - val_accuracy: 0.8280\n",
            "Epoch 66/100\n",
            "63/63 [==============================] - 6s 84ms/step - loss: 0.1871 - accuracy: 0.9200 - val_loss: 0.3938 - val_accuracy: 0.8370\n",
            "Epoch 67/100\n",
            "63/63 [==============================] - 4s 68ms/step - loss: 0.1646 - accuracy: 0.9340 - val_loss: 0.3870 - val_accuracy: 0.8640\n",
            "Epoch 68/100\n",
            "63/63 [==============================] - 5s 68ms/step - loss: 0.1634 - accuracy: 0.9355 - val_loss: 1.0535 - val_accuracy: 0.7710\n",
            "Epoch 69/100\n",
            "63/63 [==============================] - 6s 88ms/step - loss: 0.1567 - accuracy: 0.9380 - val_loss: 0.5314 - val_accuracy: 0.8140\n",
            "Epoch 70/100\n",
            "63/63 [==============================] - 5s 71ms/step - loss: 0.1693 - accuracy: 0.9315 - val_loss: 0.2984 - val_accuracy: 0.8880\n",
            "Epoch 71/100\n",
            "63/63 [==============================] - 5s 83ms/step - loss: 0.1662 - accuracy: 0.9350 - val_loss: 0.4728 - val_accuracy: 0.8440\n",
            "Epoch 72/100\n",
            "63/63 [==============================] - 5s 68ms/step - loss: 0.1758 - accuracy: 0.9280 - val_loss: 0.3569 - val_accuracy: 0.8750\n",
            "Epoch 73/100\n",
            "63/63 [==============================] - 5s 70ms/step - loss: 0.1512 - accuracy: 0.9390 - val_loss: 0.5620 - val_accuracy: 0.8260\n",
            "Epoch 74/100\n",
            "63/63 [==============================] - 6s 86ms/step - loss: 0.1623 - accuracy: 0.9330 - val_loss: 0.9826 - val_accuracy: 0.7460\n",
            "Epoch 75/100\n",
            "63/63 [==============================] - 4s 67ms/step - loss: 0.1324 - accuracy: 0.9470 - val_loss: 0.8841 - val_accuracy: 0.7930\n",
            "Epoch 76/100\n",
            "63/63 [==============================] - 5s 74ms/step - loss: 0.1651 - accuracy: 0.9395 - val_loss: 0.5022 - val_accuracy: 0.8400\n",
            "Epoch 77/100\n",
            "63/63 [==============================] - 5s 76ms/step - loss: 0.1502 - accuracy: 0.9375 - val_loss: 0.4829 - val_accuracy: 0.8490\n",
            "Epoch 78/100\n",
            "63/63 [==============================] - 5s 70ms/step - loss: 0.1401 - accuracy: 0.9420 - val_loss: 0.5237 - val_accuracy: 0.8340\n",
            "Epoch 79/100\n",
            "63/63 [==============================] - 5s 84ms/step - loss: 0.1472 - accuracy: 0.9430 - val_loss: 0.6644 - val_accuracy: 0.8260\n",
            "Epoch 80/100\n",
            "63/63 [==============================] - 5s 69ms/step - loss: 0.1382 - accuracy: 0.9430 - val_loss: 0.9668 - val_accuracy: 0.7670\n",
            "Epoch 81/100\n",
            "63/63 [==============================] - 4s 68ms/step - loss: 0.1360 - accuracy: 0.9505 - val_loss: 1.0781 - val_accuracy: 0.7360\n",
            "Epoch 82/100\n",
            "63/63 [==============================] - 5s 77ms/step - loss: 0.1228 - accuracy: 0.9495 - val_loss: 0.4107 - val_accuracy: 0.8690\n",
            "Epoch 83/100\n",
            "63/63 [==============================] - 5s 68ms/step - loss: 0.1380 - accuracy: 0.9420 - val_loss: 0.7775 - val_accuracy: 0.7700\n",
            "Epoch 84/100\n",
            "63/63 [==============================] - 7s 102ms/step - loss: 0.1392 - accuracy: 0.9425 - val_loss: 0.3761 - val_accuracy: 0.8620\n",
            "Epoch 85/100\n",
            "63/63 [==============================] - 5s 69ms/step - loss: 0.1331 - accuracy: 0.9475 - val_loss: 0.3088 - val_accuracy: 0.8790\n",
            "Epoch 86/100\n",
            "63/63 [==============================] - 5s 69ms/step - loss: 0.1366 - accuracy: 0.9475 - val_loss: 0.4692 - val_accuracy: 0.8560\n",
            "Epoch 87/100\n",
            "63/63 [==============================] - 5s 81ms/step - loss: 0.1337 - accuracy: 0.9450 - val_loss: 0.3389 - val_accuracy: 0.8810\n",
            "Epoch 88/100\n",
            "63/63 [==============================] - 4s 67ms/step - loss: 0.1375 - accuracy: 0.9510 - val_loss: 0.4493 - val_accuracy: 0.8380\n",
            "Epoch 89/100\n",
            "63/63 [==============================] - 5s 83ms/step - loss: 0.1207 - accuracy: 0.9570 - val_loss: 0.4013 - val_accuracy: 0.8790\n",
            "Epoch 90/100\n",
            "63/63 [==============================] - 5s 68ms/step - loss: 0.1190 - accuracy: 0.9585 - val_loss: 0.3564 - val_accuracy: 0.8790\n",
            "Epoch 91/100\n",
            "63/63 [==============================] - 6s 86ms/step - loss: 0.1170 - accuracy: 0.9535 - val_loss: 0.4972 - val_accuracy: 0.8510\n",
            "Epoch 92/100\n",
            "63/63 [==============================] - 5s 82ms/step - loss: 0.1267 - accuracy: 0.9490 - val_loss: 0.2866 - val_accuracy: 0.9020\n",
            "Epoch 93/100\n",
            "63/63 [==============================] - 5s 69ms/step - loss: 0.1238 - accuracy: 0.9455 - val_loss: 0.3289 - val_accuracy: 0.8970\n",
            "Epoch 94/100\n",
            "63/63 [==============================] - 6s 87ms/step - loss: 0.1274 - accuracy: 0.9490 - val_loss: 0.6969 - val_accuracy: 0.8230\n",
            "Epoch 95/100\n",
            "63/63 [==============================] - 6s 85ms/step - loss: 0.1194 - accuracy: 0.9520 - val_loss: 0.8178 - val_accuracy: 0.8200\n",
            "Epoch 96/100\n",
            "63/63 [==============================] - 5s 69ms/step - loss: 0.0903 - accuracy: 0.9605 - val_loss: 0.5123 - val_accuracy: 0.8520\n",
            "Epoch 97/100\n",
            "63/63 [==============================] - 6s 89ms/step - loss: 0.1066 - accuracy: 0.9580 - val_loss: 0.3932 - val_accuracy: 0.8790\n",
            "Epoch 98/100\n",
            "63/63 [==============================] - 5s 70ms/step - loss: 0.1199 - accuracy: 0.9530 - val_loss: 0.4456 - val_accuracy: 0.8860\n",
            "Epoch 99/100\n",
            "63/63 [==============================] - 6s 94ms/step - loss: 0.0939 - accuracy: 0.9680 - val_loss: 0.3387 - val_accuracy: 0.9040\n",
            "Epoch 100/100\n",
            "63/63 [==============================] - 4s 68ms/step - loss: 0.0981 - accuracy: 0.9630 - val_loss: 0.5832 - val_accuracy: 0.8460\n"
          ]
        }
      ],
      "source": [
        "model.compile(loss=\"binary_crossentropy\",\n",
        "              optimizer=\"rmsprop\",\n",
        "              metrics=[\"accuracy\"])\n",
        "history = model.fit(\n",
        "    train_dataset,\n",
        "    epochs=100,\n",
        "    validation_data=validation_dataset)"
      ]
    },
    {
      "cell_type": "code",
      "execution_count": null,
      "metadata": {
        "colab": {
          "base_uri": "https://localhost:8080/",
          "height": 887
        },
        "id": "EF7VzM_58F_-",
        "outputId": "2981ef48-a359-4aa6-8d3a-6bc189bee491"
      },
      "outputs": [
        {
          "output_type": "display_data",
          "data": {
            "text/plain": [
              "<Figure size 640x480 with 1 Axes>"
            ],
            "image/png": "[encoded data removed]"
          },
          "metadata": {}
        },
        {
          "output_type": "display_data",
          "data": {
            "text/plain": [
              "<Figure size 640x480 with 1 Axes>"
            ],
            "image/png": "[encoded data removed]"
          },
          "metadata": {}
        }
      ],
      "source": [
        "import matplotlib.pyplot as plt\n",
        "accuracy = history.history[\"accuracy\"]\n",
        "val_accuracy = history.history[\"val_accuracy\"]\n",
        "loss = history.history[\"loss\"]\n",
        "val_loss = history.history[\"val_loss\"]\n",
        "epochs = range(1, len(accuracy) + 1)\n",
        "plt.plot(epochs, accuracy, \"bo\", label=\"Training accuracy\")\n",
        "plt.plot(epochs, val_accuracy, \"b\", label=\"Validation accuracy\")\n",
        "plt.title(\"Training and validation accuracy\")\n",
        "plt.legend()\n",
        "plt.figure()\n",
        "plt.plot(epochs, loss, \"bo\", label=\"Training loss\")\n",
        "plt.plot(epochs, val_loss, \"b\", label=\"Validation loss\")\n",
        "plt.title(\"Training and validation loss\")\n",
        "plt.legend()\n",
        "plt.show()"
      ]
    }
  ],
  "metadata": {
    "accelerator": "GPU",
    "colab": {
      "name": "chapter09_part02_modern-convnet-architecture-patterns.i",
      "provenance": [],
      "gpuType": "V100"
    },
    "kernelspec": {
      "display_name": "default:Python",
      "language": "python",
      "name": "conda-env-default-py"
    },
    "language_info": {
      "codemirror_mode": {
        "name": "ipython",
        "version": 3
      },
      "file_extension": ".py",
      "mimetype": "text/x-python",
      "name": "python",
      "nbconvert_exporter": "python",
      "pygments_lexer": "ipython3",
      "version": "3.9.10"
    }
  },
  "nbformat": 4,
  "nbformat_minor": 0
}