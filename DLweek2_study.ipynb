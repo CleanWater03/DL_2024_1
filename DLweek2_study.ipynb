{
  "cells": [
    {
      "cell_type": "markdown",
      "metadata": {
        "id": "view-in-github",
        "colab_type": "text"
      },
      "source": [
        "<a href=\"https://colab.research.google.com/github/CleanWater03/DL_2024_1/blob/main/DLweek2_study.ipynb\" target=\"_parent\"><img src=\"https://colab.research.google.com/assets/colab-badge.svg\" alt=\"Open In Colab\"/></a>"
      ]
    },
    {
      "cell_type": "markdown",
      "metadata": {
        "id": "cXa0j2J_JDEu"
      },
      "source": [
        "This is a companion notebook for the book [Deep Learning with Python, Second Edition](https://www.manning.com/books/deep-learning-with-python-second-edition?a_aid=keras&a_bid=76564dff). For readability, it only contains runnable code blocks and section titles, and omits everything else in the book: text paragraphs, figures, and pseudocode.\n",
        "\n",
        "**If you want to be able to follow what's going on, I recommend reading the notebook side by side with your copy of the book.**\n",
        "\n",
        "This notebook was generated for TensorFlow 2.6."
      ]
    },
    {
      "cell_type": "markdown",
      "metadata": {
        "id": "-UEnHlZqJDEx"
      },
      "source": [
        "# The mathematical building blocks of neural networks"
      ]
    },
    {
      "cell_type": "markdown",
      "metadata": {
        "id": "f21qwwSGJDEx"
      },
      "source": [
        "## A first look at a neural network"
      ]
    },
    {
      "cell_type": "markdown",
      "metadata": {
        "id": "WvXwSXMZJDEy"
      },
      "source": [
        "**Loading the MNIST dataset in Keras**"
      ]
    },
    {
      "cell_type": "markdown",
      "source": [
        "train_images와 train_labels로 훈련 세트 구성\n",
        "\n",
        "*   모델은 test_images와 test_labels로 구성된 테스트 세트에서 평가됨.\n",
        "*   이미지는 Numpy 배열로 코드화(encoding)\n",
        "*   레이블은 0부터 9까지의 숫자 배열\n",
        "*   이미지와 레이블은 일대일 관계\n",
        "\n"
      ],
      "metadata": {
        "id": "uHAhqAXqim6U"
      }
    },
    {
      "cell_type": "code",
      "execution_count": null,
      "metadata": {
        "id": "0SSV4uCIJDEy",
        "colab": {
          "base_uri": "https://localhost:8080/"
        },
        "outputId": "cc837fd4-1cd5-48d9-890a-095c039415d0"
      },
      "outputs": [
        {
          "output_type": "stream",
          "name": "stdout",
          "text": [
            "Downloading data from https://storage.googleapis.com/tensorflow/tf-keras-datasets/mnist.npz\n",
            "11490434/11490434 [==============================] - 0s 0us/step\n"
          ]
        }
      ],
      "source": [
        "from tensorflow.keras.datasets import mnist\n",
        "(train_images, train_labels), (test_images, test_labels) = mnist.load_data()"
      ]
    },
    {
      "cell_type": "markdown",
      "source": [
        "훈련 데이터 살펴보기"
      ],
      "metadata": {
        "id": "IODdBtE1hDJB"
      }
    },
    {
      "cell_type": "code",
      "execution_count": null,
      "metadata": {
        "id": "zzBj8hUlJDEz",
        "outputId": "13eaef79-d882-4402-93d3-d5ed4c71a511",
        "colab": {
          "base_uri": "https://localhost:8080/"
        }
      },
      "outputs": [
        {
          "output_type": "execute_result",
          "data": {
            "text/plain": [
              "(60000, 28, 28)"
            ]
          },
          "metadata": {},
          "execution_count": 2
        }
      ],
      "source": [
        "train_images.shape\n",
        "# .shape : Numpy 배열의 형태를 알아보는 함수"
      ]
    },
    {
      "cell_type": "code",
      "execution_count": null,
      "metadata": {
        "id": "ueHLAJ2xJDEz",
        "outputId": "a4b5a473-5de2-4724-e3b8-e9582b273ddd",
        "colab": {
          "base_uri": "https://localhost:8080/"
        }
      },
      "outputs": [
        {
          "output_type": "execute_result",
          "data": {
            "text/plain": [
              "60000"
            ]
          },
          "metadata": {},
          "execution_count": 3
        }
      ],
      "source": [
        "len(train_labels)\n",
        "# len 함수 : 문자열의 길이 반환"
      ]
    },
    {
      "cell_type": "code",
      "execution_count": null,
      "metadata": {
        "id": "hz53kK69JDEz",
        "outputId": "151abd98-780a-494a-8677-85a47fc693ae",
        "colab": {
          "base_uri": "https://localhost:8080/"
        }
      },
      "outputs": [
        {
          "output_type": "execute_result",
          "data": {
            "text/plain": [
              "array([5, 0, 4, ..., 5, 6, 8], dtype=uint8)"
            ]
          },
          "metadata": {},
          "execution_count": 4
        }
      ],
      "source": [
        "train_labels\n",
        "# 훈련데이터의 레이블 목록을 나열"
      ]
    },
    {
      "cell_type": "markdown",
      "source": [
        "평가 데이터 살펴보기"
      ],
      "metadata": {
        "id": "-Hq13NNQjqhe"
      }
    },
    {
      "cell_type": "code",
      "execution_count": null,
      "metadata": {
        "id": "7QnFNnPOJDEz",
        "outputId": "eff82fcc-a332-4f29-d90b-98c1f7890cda",
        "colab": {
          "base_uri": "https://localhost:8080/"
        }
      },
      "outputs": [
        {
          "output_type": "execute_result",
          "data": {
            "text/plain": [
              "(10000, 28, 28)"
            ]
          },
          "metadata": {},
          "execution_count": 5
        }
      ],
      "source": [
        "test_images.shape"
      ]
    },
    {
      "cell_type": "code",
      "execution_count": null,
      "metadata": {
        "id": "MLPS2-08JDEz",
        "outputId": "380c4023-3f0a-4cad-8584-16b6a940da5d",
        "colab": {
          "base_uri": "https://localhost:8080/"
        }
      },
      "outputs": [
        {
          "output_type": "execute_result",
          "data": {
            "text/plain": [
              "10000"
            ]
          },
          "metadata": {},
          "execution_count": 6
        }
      ],
      "source": [
        "len(test_labels)"
      ]
    },
    {
      "cell_type": "code",
      "execution_count": null,
      "metadata": {
        "id": "fi9S0ia0JDEz",
        "outputId": "6b56e7fd-3b07-4963-ee64-2dc7371111a0",
        "colab": {
          "base_uri": "https://localhost:8080/"
        }
      },
      "outputs": [
        {
          "output_type": "execute_result",
          "data": {
            "text/plain": [
              "array([7, 2, 1, ..., 4, 5, 6], dtype=uint8)"
            ]
          },
          "metadata": {},
          "execution_count": 7
        }
      ],
      "source": [
        "test_labels"
      ]
    },
    {
      "cell_type": "markdown",
      "source": [
        "여기까지의 작업 순서\n",
        "1. 훈련데이터를 네트워크에 주입.\n",
        "2. 네트워크는 이미지와 레이블을 연관시키도록 학습.\n",
        "3. 마지막으로 네트워크에 예측을 시켜 평가를 수행함.\n",
        "* 답지주고 공부시키는것이라 할 수 있음"
      ],
      "metadata": {
        "id": "qIq8KqlPl70u"
      }
    },
    {
      "cell_type": "markdown",
      "metadata": {
        "id": "iB1Lqwf9JDE0"
      },
      "source": [
        "**The network architecture**"
      ]
    },
    {
      "cell_type": "code",
      "execution_count": null,
      "metadata": {
        "id": "zi8Zts7xJDE0"
      },
      "outputs": [],
      "source": [
        "# 라이브러리 불러오기\n",
        "from tensorflow import keras\n",
        "from tensorflow.keras import layers\n",
        "# 딥러닝 모델 만들기\n",
        "model = keras.Sequential([\n",
        "    layers.Dense(512, activation=\"relu\"),\n",
        "    layers.Dense(10, activation=\"softmax\")\n",
        "])"
      ]
    },
    {
      "cell_type": "markdown",
      "source": [
        "**위 코드에서**\n",
        "* Dense layer(조밀하게 연결된 신경망 층) 2개가  연속되어 있음.\n",
        "* 처음 층에서 입력데이터를 활성화함수를 사용하여 Relu가 512차원의 벡터로 변환하고 두번째 층에서는 활성화함수 SoftMax가 10개의 출력 뉴런으로 변환함.\n",
        "* 두 번째 층은 10개의 확률 점수가 들어있는 배열임."
      ],
      "metadata": {
        "id": "0GebAjHsUQ2-"
      }
    },
    {
      "cell_type": "markdown",
      "source": [
        "**위 코드에서 사용된 활성화함수들**\n",
        "* Relu : 음의 값을 0으로 변환하고 양의 값은 그대로 유지\n",
        "* Softmax : 일반적으로 분류 문제에서 사용되는데, 출력값을 0부터 1사이의 확률 분포로 변환"
      ],
      "metadata": {
        "id": "Bs9qwVRUXKxS"
      }
    },
    {
      "cell_type": "markdown",
      "source": [
        "**신경망의 훈련을 위해 CPU가 알아들을 수 있게 하는 단계(Compile)에 포함되어야 할 요소**\n",
        "\n",
        "▶ Compile의 정확한 설명 : 모델을 학습시키기 위한 학습과정을 설정하는 단계 => CPU가 받아들이도록 구조화\n",
        "\n",
        "1.   옵티마이저 : 성능 향상을 위해 입력된 데이터를 기반으로 모델을 업데이트하는 매커니즘.\n",
        "2.   손실 함수 : 모델이 옳은 방향으로 학습될 수 있도록 훈련 데이터에서 모델의 성능을 측정하는 도구.\n",
        "3.   훈련과 테스트 과정을 모니터링할 지표\n"
      ],
      "metadata": {
        "id": "qv-uYt1rYOLB"
      }
    },
    {
      "cell_type": "markdown",
      "metadata": {
        "id": "kmm6kfeqJDE0"
      },
      "source": [
        "**The compilation step**"
      ]
    },
    {
      "cell_type": "code",
      "execution_count": null,
      "metadata": {
        "id": "gurLNxLAtass"
      },
      "outputs": [],
      "source": [
        "model.compile(optimizer=\"rmsprop\",\n",
        "              loss=\"sparse_categorical_crossentropy\",\n",
        "              metrics=[\"accuracy\"])"
      ]
    },
    {
      "cell_type": "markdown",
      "source": [
        "* model.compile() : 사전에 정의된 모델에 compile 함수를 호출.\n",
        "* 옵티마이저 알고리즘을 RMSProp(기울기를 단순 누적하지 않고 지수 가중 이동 평균을 사용하여 최신 기울기들이 더 크게 반영되도록 하는 알고리즘)\n",
        "* 손실함수는 Sparse Categorical Crossentropy(희소 범주형 교차 엔트로피)를 사용했다.\n",
        "\n",
        "**희소 범주형 교차 엔트로피**\n",
        "* 다중 클래스 분류 문제에서 레이블이 One-Hot Encoding이 아니라 정수 형태로 제공될 때 사용함.\n",
        "\n",
        "****\n",
        "\n",
        "**참고)**\n",
        "원-핫 인코딩(One-Hot Encoding)은 범주형 데이터를 컴퓨터가 이해하기 쉬운 형태로 변환하는 인코딩 기법이다.\n",
        "* 머신 러닝 및 딥 러닝 모델에서 범주형 데이터를 다룰 때 사용된다.\n",
        "* 이 기법은 주어진 범주(카테고리)에 해당하는 위치에만 1이고, 나머지 위치에는 0으로 표시하는 방식이다.\n",
        "* 범주형 변수의 각 카테고리가 이진화되어 해당하는 카테고리에만 1로 표시되고 나머지는 0으로 표시되기 때문에 'One-Hot'이라는 이름이 붙여졌다."
      ],
      "metadata": {
        "id": "NF4EempP_Mkp"
      }
    },
    {
      "cell_type": "markdown",
      "metadata": {
        "id": "WPV3tDJrJDE0"
      },
      "source": [
        "**Preparing the image data**"
      ]
    },
    {
      "cell_type": "markdown",
      "source": [
        "**데이터 형태 변환을 하기 전 알아야 할 부분**\n",
        "* 이미지 데이터는(Sample 수, 높이, 너비) 형식의 3차원 배열로 저장됨.\n",
        "* 딥러닝 모델은 대부분 입력 데이터를 flattened format으로 받아들이기 때문에 이런 변환(스케일 조정)과정이 필요함.\n",
        "* 이런 전처리 과정을 거치면 모델이 더 효과적으로 학습하고 더 나은 성능을 달성할 수 있음.\n",
        "\n",
        "**Flatten layer란?**\n",
        "* Keras에서 제공하는 레이어 중 하나로, 입력 데이터를 1차원으로 평탄화(flatten)함.\n",
        "* 2D 혹은 3D의 특징 맵(feature map)을 1D 벡터로 변환.\n",
        "* 이후의 레이어에서 처리하기 쉽게 만들어주는 역할을 함.\n",
        "* Flatten() 레이어는 입력 데이터의 형태를 변경하지 않고 1D 벡터로 변환\n",
        "* 따라서, Flatten() 레이어는 학습 가능한 가중치(weights)를 갖지 않음."
      ],
      "metadata": {
        "id": "rZDJDfEhYDY5"
      }
    },
    {
      "cell_type": "code",
      "execution_count": null,
      "metadata": {
        "id": "31bMiN-7JDE0"
      },
      "outputs": [],
      "source": [
        "train_images = train_images.reshape((60000, 28 * 28))\n",
        "train_images = train_images.astype(\"float32\") / 255\n",
        "test_images = test_images.reshape((10000, 28 * 28))\n",
        "test_images = test_images.astype(\"float32\") / 255"
      ]
    },
    {
      "cell_type": "markdown",
      "source": [
        "\n",
        "\n",
        "1.   데이터 형태 변환(Reshaping Data) :\n",
        "* MNIST 손글씨 숫자 데이터셋에서 이 코드는 각 이미지를 (28,28)과 같이 이미지와 레이블을 나열한 형식에서 28*28=784개의 값을 가진 단일 행으로 변환.\n",
        "2.   픽셀 값 정규화(Normalizing Pixel Values) :\n",
        "* 이미지 데이터의 픽셀 값을 실수(float32 : 32bit 실수) 형태로 변환.\n",
        "* 255로 나누어 픽셀 값을 0과 1사이의 범위로 정규화하는 작업을 수행함.\n",
        "\n",
        "**Q1.정규화 안하면 벌어지는 일**\n",
        "\n",
        "\n",
        "1. 모델 학습 어려움 (Difficulty in Model Training)\n",
        "\n",
        "* 딥러닝 모델은 일반적으로 0과 1 사이의 값으로 정규화된 데이터를 기반으로 학습됩니다.\n",
        "픽셀 값이 정규화되지 않으면 모델이 데이터의 스케일을 이해하는 데 어려움을 겪을 수 있습니다.\n",
        "이는 학습 과정을 느리게 하고 최종 모델의 정확도를 저하시킬 수 있습니다.\n",
        "2. 모델 성능 저하 (Reduced Model Performance)\n",
        "\n",
        "* 정규화되지 않은 픽셀 값은 모델의 가중치 업데이트에 영향을 미칠 수 있습니다.\n",
        "특정 픽셀 값이 다른 픽셀 값보다 훨씬 큰 영향을 미쳐 모델 학습 과정이 왜곡될 수 있습니다.\n",
        "이는 모델의 일반화 성능을 저하시키고 과적합 (overfitting) 문제를 야기할 수 있습니다.\n",
        "3. 계산 비용 증가 (Increased Computational Cost)\n",
        "\n",
        "* 정규화되지 않은 픽셀 값은 모델이 더 많은 계산을 수행하도록 만들 수 있습니다.\n",
        "이는 학습 과정을 느리게 하고 더 많은 컴퓨팅 자원을 필요로 합니다.\n",
        "\n",
        "\n",
        "\n",
        "**왜 dtype를 float64가 아닌 float32를 지정하는가?**\n",
        "* float64는 64비트이므로 float32의 32비트의 두 배의 메모리를 필요로 한다. 따라서 연산속도 면에서 float32보다 느리다.\n",
        "* float64는 반면에 정확하게 계산을 수행할 수 있다.\n",
        "* 다음 조건에 따라 어떤 형태가 적절한지 본인이 판단해서 사용해야한다.\n",
        "\n",
        "\n",
        "1.   숫자가 매우 정밀하게 계산되어야 하는 Task 인가?\n",
        "2.   학습 시간이 오래 걸리더라도 조금이나마 더 정확한 계산을 원하는가? 아니면 학습 결과를 빠르게 확인해보고 싶은가?\n",
        "3. 학습 서버에 얼마나 큰 용량의 메모리가 달려있는가? CPU 또는 GPU 성능이 어느 정도인가?\n",
        "\n"
      ],
      "metadata": {
        "id": "wgSiFK-yadeJ"
      }
    },
    {
      "cell_type": "markdown",
      "metadata": {
        "id": "aUXeQSW0JDE0"
      },
      "source": [
        "**\"Fitting\" the model**"
      ]
    },
    {
      "cell_type": "code",
      "execution_count": null,
      "metadata": {
        "id": "r_hkXBRlJDE1",
        "colab": {
          "base_uri": "https://localhost:8080/"
        },
        "outputId": "f2c10eaf-2878-4be3-fdef-0b14e4ca8641"
      },
      "outputs": [
        {
          "output_type": "stream",
          "name": "stdout",
          "text": [
            "Epoch 1/5\n",
            "469/469 [==============================] - 3s 4ms/step - loss: 0.2600 - accuracy: 0.9255\n",
            "Epoch 2/5\n",
            "469/469 [==============================] - 1s 3ms/step - loss: 0.1064 - accuracy: 0.9687\n",
            "Epoch 3/5\n",
            "469/469 [==============================] - 1s 3ms/step - loss: 0.0698 - accuracy: 0.9791\n",
            "Epoch 4/5\n",
            "469/469 [==============================] - 1s 3ms/step - loss: 0.0506 - accuracy: 0.9850\n",
            "Epoch 5/5\n",
            "469/469 [==============================] - 1s 3ms/step - loss: 0.0377 - accuracy: 0.9887\n"
          ]
        },
        {
          "output_type": "execute_result",
          "data": {
            "text/plain": [
              "<keras.src.callbacks.History at 0x7e769e8c2620>"
            ]
          },
          "metadata": {},
          "execution_count": 11
        }
      ],
      "source": [
        "model.fit(train_images, train_labels, epochs=5, batch_size=128)"
      ]
    },
    {
      "cell_type": "markdown",
      "source": [
        "**코드의 의미**\n",
        "* epochs을 5, 배치 사이즈를 128로 설정하여 모델을 학습시킨다.\n",
        "\n",
        "**출력 결과 분석**\n",
        "* 훈련 데이터에 대한 모델의 손실값과 정확도가 출력되고 있음.\n",
        "* 각 Epoch의 수행과정과 이에 따른 소요시간이 나타남.\n",
        "\n",
        "**Q2. epoch과 배치 사이즈의 의미**\n",
        "* epochs : 전체 데이터 셋에 대해 몇번 학습할 것인지 정하는 수\n",
        "(forward pass+ backward pass로 학습하는 것이 1 epoch)\n",
        "* 배치 사이즈 : 한 번에 모델이 학습하는 데이터 샘플의 개수를 의미함.\n",
        "\n",
        "***\n",
        "**Q3. 배치 사이즈를 100으로 설정하면 epoch 하나에 몇 번의 훈련을 수행하는가?**\n",
        "* 배치 사이즈를 x라 하면, 가중치 업데이트(훈련) 수는 전체 데이터 수 / 배치 사이즈로 나타낼 수 있음.\n",
        "* 60000 / 100 = 600번\n"
      ],
      "metadata": {
        "id": "AlV6NoqEkIQw"
      }
    },
    {
      "cell_type": "markdown",
      "metadata": {
        "id": "tzVjzRzeJDE1"
      },
      "source": [
        "**Using the model to make predictions**"
      ]
    },
    {
      "cell_type": "code",
      "execution_count": null,
      "metadata": {
        "id": "P8N0r_F3JDE1",
        "colab": {
          "base_uri": "https://localhost:8080/"
        },
        "outputId": "f16cfbbb-3af3-4ab1-c14f-e31e20ce7eb4"
      },
      "outputs": [
        {
          "output_type": "stream",
          "name": "stdout",
          "text": [
            "1/1 [==============================] - 0s 61ms/step\n"
          ]
        },
        {
          "output_type": "execute_result",
          "data": {
            "text/plain": [
              "array([9.4024585e-08, 2.9790554e-09, 2.5753639e-05, 7.6456578e-05,\n",
              "       9.7996604e-11, 6.6000545e-08, 2.5234806e-11, 9.9988067e-01,\n",
              "       6.4479273e-06, 1.0453370e-05], dtype=float32)"
            ]
          },
          "metadata": {},
          "execution_count": 12
        }
      ],
      "source": [
        "test_digits = test_images[0:10]\n",
        "predictions = model.predict(test_digits)\n",
        "predictions[0]"
      ]
    },
    {
      "cell_type": "markdown",
      "source": [
        "* test_digits 변수에 테스트 이미지를 0번째 데이터부터 10번째 데이터까지 저장.\n",
        "* model.predict 함수를 사용하여 모델이 테스트 이미지를 분류한 결과를 predictions 변수에 저장.\n",
        "* predictions 변수의 0번째 요소를 출력\n"
      ],
      "metadata": {
        "id": "wHlOd-Mk7TXE"
      }
    },
    {
      "cell_type": "code",
      "execution_count": null,
      "metadata": {
        "id": "XW47Z_WKJDE1",
        "colab": {
          "base_uri": "https://localhost:8080/"
        },
        "outputId": "20aaebea-eddd-473f-a531-2c4828460807"
      },
      "outputs": [
        {
          "output_type": "execute_result",
          "data": {
            "text/plain": [
              "7"
            ]
          },
          "metadata": {},
          "execution_count": 13
        }
      ],
      "source": [
        "predictions[0].argmax()"
      ]
    },
    {
      "cell_type": "code",
      "execution_count": null,
      "metadata": {
        "id": "AMgyi3q3JDE1",
        "colab": {
          "base_uri": "https://localhost:8080/"
        },
        "outputId": "c891962b-0ab4-4f5a-e95c-7df065809e96"
      },
      "outputs": [
        {
          "output_type": "execute_result",
          "data": {
            "text/plain": [
              "0.9998807"
            ]
          },
          "metadata": {},
          "execution_count": 14
        }
      ],
      "source": [
        "predictions[0][7]"
      ]
    },
    {
      "cell_type": "code",
      "execution_count": null,
      "metadata": {
        "id": "m2A4Y0nTJDE1",
        "colab": {
          "base_uri": "https://localhost:8080/"
        },
        "outputId": "127a1b84-6160-4864-d70f-e5afc2c9906f"
      },
      "outputs": [
        {
          "output_type": "execute_result",
          "data": {
            "text/plain": [
              "7"
            ]
          },
          "metadata": {},
          "execution_count": 15
        }
      ],
      "source": [
        "test_labels[0]"
      ]
    },
    {
      "cell_type": "markdown",
      "source": [
        "* 첫 번째 테스트 숫자 : 인덱스 7에서 가장 높은 확률 값을 가짐(0.99999106으로 거의 1)\n",
        "* 모델의 0번째 테스트 데이터의 예측 결과는 7로 나타남."
      ],
      "metadata": {
        "id": "zfUws0MI-EMv"
      }
    },
    {
      "cell_type": "markdown",
      "metadata": {
        "id": "Jz5dhoUfJDE1"
      },
      "source": [
        "**Evaluating the model on new data**"
      ]
    },
    {
      "cell_type": "code",
      "execution_count": null,
      "metadata": {
        "id": "huSzkja0JDE1",
        "colab": {
          "base_uri": "https://localhost:8080/"
        },
        "outputId": "b830c26a-df33-45e8-9d6b-c347b19fff67"
      },
      "outputs": [
        {
          "output_type": "stream",
          "name": "stdout",
          "text": [
            "313/313 [==============================] - 2s 6ms/step - loss: 0.0664 - accuracy: 0.9790\n",
            "test_acc: 0.9789999723434448\n"
          ]
        }
      ],
      "source": [
        "test_loss, test_acc = model.evaluate(test_images, test_labels)\n",
        "print(f\"test_acc: {test_acc}\")"
      ]
    },
    {
      "cell_type": "markdown",
      "source": [
        "**결론**\n",
        "* 테스트 데이터의 레이블도 7이므로 예측이 성공함.\n",
        "* 테스트 세트의 정확도는 훈련 세트의 정확도보다는 약간 낮음(97.8 < 98.9)\n",
        "* 이는 과대적합(overfitting) 때문임.\n",
        "\n"
      ],
      "metadata": {
        "id": "zk_nqQi_8r1R"
      }
    },
    {
      "cell_type": "markdown",
      "metadata": {
        "id": "7kIfHTxvJDE1"
      },
      "source": [
        "## Data representations for neural networks"
      ]
    },
    {
      "cell_type": "markdown",
      "metadata": {
        "id": "BGawfZjRJDE1"
      },
      "source": [
        "### Scalars (rank-0 tensors)"
      ]
    },
    {
      "cell_type": "markdown",
      "source": [
        "* 하나의 숫자만 담고 있는 텐서를 스칼라(scalar)라고 함."
      ],
      "metadata": {
        "id": "NuTdp5tcA-6Y"
      }
    },
    {
      "cell_type": "code",
      "execution_count": null,
      "metadata": {
        "id": "OvNFzokTJDE1",
        "colab": {
          "base_uri": "https://localhost:8080/"
        },
        "outputId": "5aaa6366-1d83-4510-c9c7-d69165bbab23"
      },
      "outputs": [
        {
          "output_type": "execute_result",
          "data": {
            "text/plain": [
              "array(12)"
            ]
          },
          "metadata": {},
          "execution_count": 17
        }
      ],
      "source": [
        "import numpy as np\n",
        "x = np.array(12)\n",
        "x"
      ]
    },
    {
      "cell_type": "code",
      "execution_count": null,
      "metadata": {
        "id": "GDl8O1t6JDE1",
        "colab": {
          "base_uri": "https://localhost:8080/"
        },
        "outputId": "d3bc0ce9-f54b-45e2-e584-eeb64ae15fff"
      },
      "outputs": [
        {
          "output_type": "execute_result",
          "data": {
            "text/plain": [
              "0"
            ]
          },
          "metadata": {},
          "execution_count": 18
        }
      ],
      "source": [
        "x.ndim"
      ]
    },
    {
      "cell_type": "markdown",
      "source": [
        "* numpy를 np로 받아들이고 스칼라 배열을 만듬.\n",
        "* 만들어진 x 배열의 차원을 구함."
      ],
      "metadata": {
        "id": "47uG2yGLBJ5o"
      }
    },
    {
      "cell_type": "markdown",
      "metadata": {
        "id": "TuTATdZFJDE2"
      },
      "source": [
        "### Vectors (rank-1 tensors)"
      ]
    },
    {
      "cell_type": "markdown",
      "source": [
        "* 숫자의 배열을 벡터(vector)라고 함."
      ],
      "metadata": {
        "id": "erlhnXUICFUn"
      }
    },
    {
      "cell_type": "code",
      "execution_count": null,
      "metadata": {
        "id": "UIn0d8snJDE2",
        "colab": {
          "base_uri": "https://localhost:8080/"
        },
        "outputId": "55422b4f-0830-4fbf-bf29-e4631e5bb07a"
      },
      "outputs": [
        {
          "output_type": "execute_result",
          "data": {
            "text/plain": [
              "array([12,  3,  6, 14,  7])"
            ]
          },
          "metadata": {},
          "execution_count": 19
        }
      ],
      "source": [
        "x = np.array([12, 3, 6, 14, 7])\n",
        "x"
      ]
    },
    {
      "cell_type": "code",
      "execution_count": null,
      "metadata": {
        "id": "NmKoAgqCJDE2",
        "colab": {
          "base_uri": "https://localhost:8080/"
        },
        "outputId": "259b1525-1723-492c-920a-9752c9c06e8d"
      },
      "outputs": [
        {
          "output_type": "execute_result",
          "data": {
            "text/plain": [
              "1"
            ]
          },
          "metadata": {},
          "execution_count": 20
        }
      ],
      "source": [
        "x.ndim"
      ]
    },
    {
      "cell_type": "markdown",
      "source": [
        "* 마찬가지의 방법으로 벡터(vector)가 1차원임을 알아냄."
      ],
      "metadata": {
        "id": "MhvobRokDcmO"
      }
    },
    {
      "cell_type": "markdown",
      "metadata": {
        "id": "mOJqDlkcJDE2"
      },
      "source": [
        "### Matrices (rank-2 tensors)"
      ]
    },
    {
      "cell_type": "markdown",
      "source": [
        "* 벡터의 배열은 행렬(matrix)라고 함."
      ],
      "metadata": {
        "id": "HyAGROaEDq9m"
      }
    },
    {
      "cell_type": "code",
      "execution_count": null,
      "metadata": {
        "id": "MiM_6Y1cJDE2",
        "colab": {
          "base_uri": "https://localhost:8080/"
        },
        "outputId": "181d9ff5-c14b-491a-80ee-981f9f7eedd2"
      },
      "outputs": [
        {
          "output_type": "execute_result",
          "data": {
            "text/plain": [
              "2"
            ]
          },
          "metadata": {},
          "execution_count": 21
        }
      ],
      "source": [
        "x = np.array([[5, 78, 2, 34, 0],\n",
        "              [6, 79, 3, 35, 1],\n",
        "              [7, 80, 4, 36, 2]])\n",
        "x.ndim"
      ]
    },
    {
      "cell_type": "markdown",
      "source": [
        "* 행렬은 2차원임."
      ],
      "metadata": {
        "id": "-GrW2eutDp2n"
      }
    },
    {
      "cell_type": "markdown",
      "metadata": {
        "id": "hm9qZxguJDE2"
      },
      "source": [
        "### Rank-3 and higher-rank tensors"
      ]
    },
    {
      "cell_type": "markdown",
      "source": [
        "* 행렬을 배열로 합쳐 직육면체 형태로 해석할 수 있는 것은 3D 텐서라고 함.\n",
        "* 3차원임."
      ],
      "metadata": {
        "id": "T9Mk7cGnEBFM"
      }
    },
    {
      "cell_type": "code",
      "execution_count": null,
      "metadata": {
        "id": "1n6rAv42JDE2",
        "colab": {
          "base_uri": "https://localhost:8080/"
        },
        "outputId": "135b9a5e-e1a1-4292-e9fb-9eb7f6dca56a"
      },
      "outputs": [
        {
          "output_type": "execute_result",
          "data": {
            "text/plain": [
              "3"
            ]
          },
          "metadata": {},
          "execution_count": 42
        }
      ],
      "source": [
        "x = np.array([[[5, 78, 2, 34, 0],\n",
        "               [6, 79, 3, 35, 1],\n",
        "               [7, 80, 4, 36, 2]],\n",
        "              [[5, 78, 2, 34, 0],\n",
        "               [6, 79, 3, 35, 1],\n",
        "               [7, 80, 4, 36, 2]],\n",
        "              [[5, 78, 2, 34, 0],\n",
        "               [6, 79, 3, 35, 1],\n",
        "               [7, 80, 4, 36, 2]]])\n",
        "x.ndim"
      ]
    },
    {
      "cell_type": "markdown",
      "source": [
        "![텐서플로 자료구조](https://url.kr/qoftdb)"
      ],
      "metadata": {
        "id": "U-cb5OxtCWhP"
      }
    },
    {
      "cell_type": "markdown",
      "source": [
        "**Q4.Mnist 테스트 데이터 세트에서 얼마나 많은 표본이 있습니까?**\n",
        "* 10000개\n",
        "\n",
        "**Q5. Mnist 데이터의 차원은 어떻게 됩니까?**\n",
        "* 28*28 bit의 데이터가 나열되어 있으므로 2차원 데이터임.\n",
        "* 이런 2차원 데이터를 우리는 1차원 행렬로 변환하였음."
      ],
      "metadata": {
        "id": "u_ibJeAlFph6"
      }
    },
    {
      "cell_type": "markdown",
      "source": [
        "**Q6. 3D Tensor 만들기**"
      ],
      "metadata": {
        "id": "zG4gXGLt_r2H"
      }
    },
    {
      "cell_type": "code",
      "source": [
        "x = np.array([[[2,4,6,8],\n",
        "              [3,6,9,12],\n",
        "             [4,8,12,16]],\n",
        "              [[2,8,32,128],\n",
        "               [3,27,243,2187],\n",
        "               [4,64,1024,16384]]])\n",
        "x.ndim"
      ],
      "metadata": {
        "colab": {
          "base_uri": "https://localhost:8080/"
        },
        "id": "Tv2wTRf0SXjP",
        "outputId": "90e8d65c-7a2c-4941-a068-cefc2919b556"
      },
      "execution_count": null,
      "outputs": [
        {
          "output_type": "execute_result",
          "data": {
            "text/plain": [
              "3"
            ]
          },
          "metadata": {},
          "execution_count": 44
        }
      ]
    },
    {
      "cell_type": "markdown",
      "metadata": {
        "id": "a2JAZcyjJDE3"
      },
      "source": [
        "### Key attributes"
      ]
    },
    {
      "cell_type": "markdown",
      "source": [
        "* 축의 개수(랭크): 예를 들어 랭크-3 텐서에는 3개의 축이 있고, 행렬에는 2개의 축이 있음.\n",
        "* Numpy나 TensorFlow 같은 Python 라이브러리에서는 ndim 속성에 저장되어 있음.\n",
        "***\n",
        "* 크기(shape): 텐서의 각 축을 따라 얼마나 많은 차원이 있는지를 나타낸 파이썬의 튜플(tuple)임.\n",
        "* 데이터 타입(파이썬 라이브러리에서는 보통 dtype이라고 부름): 텐서에 포함된 데이터의 타입"
      ],
      "metadata": {
        "id": "kM-w1mKcIYqq"
      }
    },
    {
      "cell_type": "code",
      "execution_count": null,
      "metadata": {
        "id": "PUAwWWAsJDE3"
      },
      "outputs": [],
      "source": [
        "from tensorflow.keras.datasets import mnist\n",
        "(train_images, train_labels), (test_images, test_labels) = mnist.load_data()\n",
        "# mnist 데이터 세트 불러오기"
      ]
    },
    {
      "cell_type": "code",
      "execution_count": null,
      "metadata": {
        "id": "88PtBUWKJDE7",
        "colab": {
          "base_uri": "https://localhost:8080/"
        },
        "outputId": "8bc9f5b4-d918-42d5-fbf6-8c9d78f18885"
      },
      "outputs": [
        {
          "output_type": "execute_result",
          "data": {
            "text/plain": [
              "3"
            ]
          },
          "metadata": {},
          "execution_count": 9
        }
      ],
      "source": [
        "train_images.ndim\n",
        "# ndim으로 축의 개수 확인"
      ]
    },
    {
      "cell_type": "code",
      "execution_count": null,
      "metadata": {
        "id": "rb6JMNaaJDE8",
        "colab": {
          "base_uri": "https://localhost:8080/"
        },
        "outputId": "2214c83a-31c3-4e2e-a3c7-02acbe862263"
      },
      "outputs": [
        {
          "output_type": "execute_result",
          "data": {
            "text/plain": [
              "(60000, 28, 28)"
            ]
          },
          "metadata": {},
          "execution_count": 10
        }
      ],
      "source": [
        "train_images.shape\n",
        "# 배열의 크기 확인"
      ]
    },
    {
      "cell_type": "code",
      "execution_count": null,
      "metadata": {
        "id": "Yp2BSgZYJDE8",
        "colab": {
          "base_uri": "https://localhost:8080/"
        },
        "outputId": "8e6b156e-dc84-4d5f-ab2f-d65f487e2d15"
      },
      "outputs": [
        {
          "output_type": "execute_result",
          "data": {
            "text/plain": [
              "dtype('uint8')"
            ]
          },
          "metadata": {},
          "execution_count": 11
        }
      ],
      "source": [
        "train_images.dtype\n",
        "# 데이터 타입 확인"
      ]
    },
    {
      "cell_type": "markdown",
      "source": [
        "* 이 배열은 8비트 정수형 랭크-3 텐서\n",
        "* 정확하게 28*28 크기의 정수 행렬 6만 개가 있는 배열임.\n",
        "* 각 행렬은 하나의 흑백 이미지고, 행렬의 각 원소는 0에서 255 사이의 값을 가짐."
      ],
      "metadata": {
        "id": "yW8TmljbJYaX"
      }
    },
    {
      "cell_type": "markdown",
      "metadata": {
        "id": "IkiPZiRnJDE8"
      },
      "source": [
        "**Displaying the fourth digit**"
      ]
    },
    {
      "cell_type": "code",
      "execution_count": null,
      "metadata": {
        "id": "KJ1RU-NTJDE8",
        "colab": {
          "base_uri": "https://localhost:8080/",
          "height": 430
        },
        "outputId": "fca213cb-c606-45b8-fdc3-e5466b097721"
      },
      "outputs": [
        {
          "output_type": "display_data",
          "data": {
            "text/plain": [
              "<Figure size 640x480 with 1 Axes>"
            ],
            "image/png": "[encoded data removed]"
          },
          "metadata": {}
        }
      ],
      "source": [
        "import matplotlib.pyplot as plt\n",
        "digit = train_images[4]\n",
        "plt.imshow(digit, cmap=plt.cm.binary)\n",
        "plt.show()"
      ]
    },
    {
      "cell_type": "markdown",
      "source": [
        "* 데이터셋에 있는 다섯 번째 데이터를 형상화 해보았음."
      ],
      "metadata": {
        "id": "iMUUN0cfJtyU"
      }
    },
    {
      "cell_type": "code",
      "execution_count": null,
      "metadata": {
        "id": "OfcffXVtJDE8",
        "colab": {
          "base_uri": "https://localhost:8080/"
        },
        "outputId": "aac2a00d-1f81-4d28-9cf3-694d302ada24"
      },
      "outputs": [
        {
          "output_type": "execute_result",
          "data": {
            "text/plain": [
              "9"
            ]
          },
          "metadata": {},
          "execution_count": 13
        }
      ],
      "source": [
        "train_labels[4]"
      ]
    },
    {
      "cell_type": "markdown",
      "source": [
        "* 레이블이 9임을 확인하였고, 위 예측이 올바르다 판단함."
      ],
      "metadata": {
        "id": "i2vu03xkKMRV"
      }
    },
    {
      "cell_type": "markdown",
      "source": [
        "**Q7. mnist 테스트 데이터셋에서 첫번째 숫자를 형상화해보기.**"
      ],
      "metadata": {
        "id": "MIQ7b58iKapO"
      }
    },
    {
      "cell_type": "code",
      "execution_count": null,
      "metadata": {
        "colab": {
          "base_uri": "https://localhost:8080/",
          "height": 430
        },
        "outputId": "dc5ec2c5-ecb2-4e9f-92d3-173d62709bcf",
        "id": "20RMOGpkLPYe"
      },
      "outputs": [
        {
          "output_type": "display_data",
          "data": {
            "text/plain": [
              "<Figure size 640x480 with 1 Axes>"
            ],
            "image/png": "[encoded data removed]"
          },
          "metadata": {}
        }
      ],
      "source": [
        "import matplotlib.pyplot as plt\n",
        "digit = test_images[0]\n",
        "plt.imshow(digit, cmap=plt.cm.binary)\n",
        "plt.show()"
      ]
    },
    {
      "cell_type": "markdown",
      "metadata": {
        "id": "Ms6TM3t0JDE8"
      },
      "source": [
        "### Manipulating tensors in NumPy"
      ]
    },
    {
      "cell_type": "markdown",
      "source": [
        "* 배열에 있는 특정 원소들을 선택하는 것을 슬라이싱(slicing)이라고함."
      ],
      "metadata": {
        "id": "ztvZDuFKLkSS"
      }
    },
    {
      "cell_type": "code",
      "execution_count": null,
      "metadata": {
        "id": "8MGl2Z_pJDE8",
        "colab": {
          "base_uri": "https://localhost:8080/"
        },
        "outputId": "baee4a2c-2715-49e7-87db-9c74aef2133a"
      },
      "outputs": [
        {
          "output_type": "execute_result",
          "data": {
            "text/plain": [
              "(90, 28, 28)"
            ]
          },
          "metadata": {},
          "execution_count": 14
        }
      ],
      "source": [
        "my_slice = train_images[10:100]\n",
        "my_slice.shape"
      ]
    },
    {
      "cell_type": "markdown",
      "source": [
        "* 다음 예는 11번째에서 101번째까지(101번째는 포함하지 않고) 숫자를 선택하여 (90, 28, 28) 크기의 배열을 만듬.\n"
      ],
      "metadata": {
        "id": "ePiWpar7Ls3l"
      }
    },
    {
      "cell_type": "code",
      "execution_count": null,
      "metadata": {
        "id": "qFGRL4HdJDE8",
        "colab": {
          "base_uri": "https://localhost:8080/"
        },
        "outputId": "82787118-c5f8-4898-c830-10cb8124d214"
      },
      "outputs": [
        {
          "output_type": "execute_result",
          "data": {
            "text/plain": [
              "(90, 28, 28)"
            ]
          },
          "metadata": {},
          "execution_count": 15
        }
      ],
      "source": [
        "my_slice = train_images[10:100, :, :]\n",
        "my_slice.shape"
      ]
    },
    {
      "cell_type": "markdown",
      "source": [
        "* 이것은 더 자세한 표기법으로 각 배열의 축을 따라 슬라이싱의 시작 인덱스와 마지막 인덱스를 지정하는 것.\n",
        "* 콜론(:)은 전체 인덱스를 선택하는 것."
      ],
      "metadata": {
        "id": "mcb2bW5VMY46"
      }
    },
    {
      "cell_type": "code",
      "execution_count": null,
      "metadata": {
        "id": "rY65-hvcJDE8",
        "colab": {
          "base_uri": "https://localhost:8080/"
        },
        "outputId": "275c73bf-6170-45fd-c301-2325fbc59467"
      },
      "outputs": [
        {
          "output_type": "execute_result",
          "data": {
            "text/plain": [
              "(90, 28, 28)"
            ]
          },
          "metadata": {},
          "execution_count": 16
        }
      ],
      "source": [
        "my_slice = train_images[10:100, 0:28, 0:28]\n",
        "my_slice.shape"
      ]
    },
    {
      "cell_type": "code",
      "execution_count": null,
      "metadata": {
        "id": "m1Z_M-9wJDE8"
      },
      "outputs": [],
      "source": [
        "my_slice = train_images[:, 14:, 14:]"
      ]
    },
    {
      "cell_type": "markdown",
      "source": [
        "* 14*14 픽셀을 선택하기."
      ],
      "metadata": {
        "id": "vOzj5T7JMypx"
      }
    },
    {
      "cell_type": "code",
      "execution_count": null,
      "metadata": {
        "id": "qnuwF6K_JDE9"
      },
      "outputs": [],
      "source": [
        "my_slice = train_images[:, 7:-7, 7:-7]"
      ]
    },
    {
      "cell_type": "markdown",
      "source": [
        "* 정중앙에 위치한 14*14 픽셀 조각을 이미지에서 잘라내기."
      ],
      "metadata": {
        "id": "mZnr5CAGNJU_"
      }
    },
    {
      "cell_type": "markdown",
      "metadata": {
        "id": "JclY_9BnJDE9"
      },
      "source": [
        "### The notion of data batches"
      ]
    },
    {
      "cell_type": "markdown",
      "source": [
        "* 일반적으로 딥러닝에서 사용하는 모든 데이터 텐서의 첫번째 축은 Sample axis라고 함.\n",
        "* 딥러닝 모델은 한 번에 전체 데이터 세트를 처리하는 것이 아니라 데이터를 작은 배치(batch)로 나눔."
      ],
      "metadata": {
        "id": "qM9fHnyONYTV"
      }
    },
    {
      "cell_type": "code",
      "execution_count": null,
      "metadata": {
        "id": "qWVK8ui2JDE9"
      },
      "outputs": [],
      "source": [
        "batch = train_images[:128]\n",
        "# mnist 숫자 데이터에서 크기가 128인 배치 하나."
      ]
    },
    {
      "cell_type": "code",
      "execution_count": null,
      "metadata": {
        "id": "BBP5ZY_BJDE9"
      },
      "outputs": [],
      "source": [
        "batch = train_images[128:256]\n",
        "# 그 다음 같은 크기인 128로 나눈 배치."
      ]
    },
    {
      "cell_type": "code",
      "execution_count": null,
      "metadata": {
        "id": "GMxFqHI9JDE9"
      },
      "outputs": [],
      "source": [
        "n = 3\n",
        "batch = train_images[128 * n:128 * (n + 1)]\n",
        "# n번째 배치는 다음과 같이 나타냄."
      ]
    },
    {
      "cell_type": "markdown",
      "source": [
        "* 배치데이터를 다룰 때 첫 번쨰 축을 배치 축(batch axis) 또는 배치 차원(batch dimension)이라고 부름."
      ],
      "metadata": {
        "id": "PMWNx42iOdRf"
      }
    },
    {
      "cell_type": "markdown",
      "source": [
        "3/13 Lecture is End!"
      ],
      "metadata": {
        "id": "aJQxsV7yF_jp"
      }
    },
    {
      "cell_type": "markdown",
      "metadata": {
        "id": "0tABzdx5JDE9"
      },
      "source": [
        "### Real-world examples of data tensors"
      ]
    },
    {
      "cell_type": "markdown",
      "metadata": {
        "id": "pcHRhginJDE-"
      },
      "source": [
        "### Vector data"
      ]
    },
    {
      "cell_type": "markdown",
      "metadata": {
        "id": "P9Js1IjYJDE-"
      },
      "source": [
        "### Timeseries data or sequence data"
      ]
    },
    {
      "cell_type": "markdown",
      "metadata": {
        "id": "1lFKPRH4JDE-"
      },
      "source": [
        "### Image data"
      ]
    },
    {
      "cell_type": "markdown",
      "metadata": {
        "id": "H5bqE-E0JDE-"
      },
      "source": [
        "### Video data"
      ]
    },
    {
      "cell_type": "markdown",
      "metadata": {
        "id": "lSfgURaeJDE-"
      },
      "source": [
        "## The gears of neural networks: tensor operations"
      ]
    },
    {
      "cell_type": "markdown",
      "metadata": {
        "id": "e8hZ3JYDJDE-"
      },
      "source": [
        "### Element-wise operations"
      ]
    },
    {
      "cell_type": "code",
      "execution_count": null,
      "metadata": {
        "id": "7CsRgfDoJDE_"
      },
      "outputs": [],
      "source": [
        "def naive_relu(x):\n",
        "    assert len(x.shape) == 2\n",
        "    x = x.copy()\n",
        "    for i in range(x.shape[0]):\n",
        "        for j in range(x.shape[1]):\n",
        "            x[i, j] = max(x[i, j], 0)\n",
        "    return x"
      ]
    },
    {
      "cell_type": "code",
      "execution_count": null,
      "metadata": {
        "id": "wfBlH6pgJDE_"
      },
      "outputs": [],
      "source": [
        "def naive_add(x, y):\n",
        "    assert len(x.shape) == 2\n",
        "    assert x.shape == y.shape\n",
        "    x = x.copy()\n",
        "    for i in range(x.shape[0]):\n",
        "        for j in range(x.shape[1]):\n",
        "            x[i, j] += y[i, j]\n",
        "    return x"
      ]
    },
    {
      "cell_type": "code",
      "execution_count": null,
      "metadata": {
        "id": "Lbq5n3KPJDE_"
      },
      "outputs": [],
      "source": [
        "import time\n",
        "\n",
        "x = np.random.random((20, 100))\n",
        "y = np.random.random((20, 100))\n",
        "\n",
        "t0 = time.time()\n",
        "for _ in range(1000):\n",
        "    z = x + y\n",
        "    z = np.maximum(z, 0.)\n",
        "print(\"Took: {0:.2f} s\".format(time.time() - t0))"
      ]
    },
    {
      "cell_type": "code",
      "execution_count": null,
      "metadata": {
        "id": "a0siWzSjJDE_"
      },
      "outputs": [],
      "source": [
        "t0 = time.time()\n",
        "for _ in range(1000):\n",
        "    z = naive_add(x, y)\n",
        "    z = naive_relu(z)\n",
        "print(\"Took: {0:.2f} s\".format(time.time() - t0))"
      ]
    },
    {
      "cell_type": "markdown",
      "metadata": {
        "id": "Z5y4OatrJDE_"
      },
      "source": [
        "### Broadcasting"
      ]
    },
    {
      "cell_type": "code",
      "execution_count": null,
      "metadata": {
        "id": "N0m7pof1JDFA"
      },
      "outputs": [],
      "source": [
        "import numpy as np\n",
        "X = np.random.random((32, 10))\n",
        "y = np.random.random((10,))"
      ]
    },
    {
      "cell_type": "code",
      "execution_count": null,
      "metadata": {
        "id": "yh0_FQD1JDFA"
      },
      "outputs": [],
      "source": [
        "y = np.expand_dims(y, axis=0)"
      ]
    },
    {
      "cell_type": "code",
      "execution_count": null,
      "metadata": {
        "id": "el43egJpJDFA"
      },
      "outputs": [],
      "source": [
        "Y = np.concatenate([y] * 32, axis=0)"
      ]
    },
    {
      "cell_type": "code",
      "execution_count": null,
      "metadata": {
        "id": "vW_G6abyJDFA"
      },
      "outputs": [],
      "source": [
        "def naive_add_matrix_and_vector(x, y):\n",
        "    assert len(x.shape) == 2\n",
        "    assert len(y.shape) == 1\n",
        "    assert x.shape[1] == y.shape[0]\n",
        "    x = x.copy()\n",
        "    for i in range(x.shape[0]):\n",
        "        for j in range(x.shape[1]):\n",
        "            x[i, j] += y[j]\n",
        "    return x"
      ]
    },
    {
      "cell_type": "code",
      "execution_count": null,
      "metadata": {
        "id": "XcYSqomHJDFA"
      },
      "outputs": [],
      "source": [
        "import numpy as np\n",
        "x = np.random.random((64, 3, 32, 10))\n",
        "y = np.random.random((32, 10))\n",
        "z = np.maximum(x, y)"
      ]
    },
    {
      "cell_type": "markdown",
      "metadata": {
        "id": "muRpLXTaJDFB"
      },
      "source": [
        "### Tensor product"
      ]
    },
    {
      "cell_type": "code",
      "execution_count": null,
      "metadata": {
        "id": "KKhVin3NJDFB"
      },
      "outputs": [],
      "source": [
        "x = np.random.random((32,))\n",
        "y = np.random.random((32,))\n",
        "z = np.dot(x, y)"
      ]
    },
    {
      "cell_type": "code",
      "execution_count": null,
      "metadata": {
        "id": "l1LBNrs1JDFB"
      },
      "outputs": [],
      "source": [
        "def naive_vector_dot(x, y):\n",
        "    assert len(x.shape) == 1\n",
        "    assert len(y.shape) == 1\n",
        "    assert x.shape[0] == y.shape[0]\n",
        "    z = 0.\n",
        "    for i in range(x.shape[0]):\n",
        "        z += x[i] * y[i]\n",
        "    return z"
      ]
    },
    {
      "cell_type": "code",
      "execution_count": null,
      "metadata": {
        "id": "7YX2xga_JDFB"
      },
      "outputs": [],
      "source": [
        "def naive_matrix_vector_dot(x, y):\n",
        "    assert len(x.shape) == 2\n",
        "    assert len(y.shape) == 1\n",
        "    assert x.shape[1] == y.shape[0]\n",
        "    z = np.zeros(x.shape[0])\n",
        "    for i in range(x.shape[0]):\n",
        "        for j in range(x.shape[1]):\n",
        "            z[i] += x[i, j] * y[j]\n",
        "    return z"
      ]
    },
    {
      "cell_type": "code",
      "execution_count": null,
      "metadata": {
        "id": "oV1kNcUmJDFB"
      },
      "outputs": [],
      "source": [
        "def naive_matrix_vector_dot(x, y):\n",
        "    z = np.zeros(x.shape[0])\n",
        "    for i in range(x.shape[0]):\n",
        "        z[i] = naive_vector_dot(x[i, :], y)\n",
        "    return z"
      ]
    },
    {
      "cell_type": "code",
      "execution_count": null,
      "metadata": {
        "id": "GHBBTjm8JDFB"
      },
      "outputs": [],
      "source": [
        "def naive_matrix_dot(x, y):\n",
        "    assert len(x.shape) == 2\n",
        "    assert len(y.shape) == 2\n",
        "    assert x.shape[1] == y.shape[0]\n",
        "    z = np.zeros((x.shape[0], y.shape[1]))\n",
        "    for i in range(x.shape[0]):\n",
        "        for j in range(y.shape[1]):\n",
        "            row_x = x[i, :]\n",
        "            column_y = y[:, j]\n",
        "            z[i, j] = naive_vector_dot(row_x, column_y)\n",
        "    return z"
      ]
    },
    {
      "cell_type": "markdown",
      "metadata": {
        "id": "zvEtJ8F0JDFB"
      },
      "source": [
        "### Tensor reshaping"
      ]
    },
    {
      "cell_type": "code",
      "execution_count": null,
      "metadata": {
        "id": "t-qEErGeJDFB"
      },
      "outputs": [],
      "source": [
        "train_images = train_images.reshape((60000, 28 * 28))"
      ]
    },
    {
      "cell_type": "code",
      "execution_count": null,
      "metadata": {
        "id": "gG2A_-g5JDFC"
      },
      "outputs": [],
      "source": [
        "x = np.array([[0., 1.],\n",
        "             [2., 3.],\n",
        "             [4., 5.]])\n",
        "x.shape"
      ]
    },
    {
      "cell_type": "code",
      "execution_count": null,
      "metadata": {
        "id": "VRmZjoT3JDFC"
      },
      "outputs": [],
      "source": [
        "x = x.reshape((6, 1))\n",
        "x"
      ]
    },
    {
      "cell_type": "code",
      "execution_count": null,
      "metadata": {
        "id": "ThSN3CgzJDFC"
      },
      "outputs": [],
      "source": [
        "x = np.zeros((300, 20))\n",
        "x = np.transpose(x)\n",
        "x.shape"
      ]
    },
    {
      "cell_type": "markdown",
      "metadata": {
        "id": "LKIvMtANJDFC"
      },
      "source": [
        "### Geometric interpretation of tensor operations"
      ]
    },
    {
      "cell_type": "markdown",
      "metadata": {
        "id": "oDjJGGiLJDFC"
      },
      "source": [
        "### A geometric interpretation of deep learning"
      ]
    },
    {
      "cell_type": "markdown",
      "metadata": {
        "id": "0z1P2OURJDFC"
      },
      "source": [
        "## The engine of neural networks: gradient-based optimization"
      ]
    },
    {
      "cell_type": "markdown",
      "metadata": {
        "id": "WMRz6pUnJDFC"
      },
      "source": [
        "### What's a derivative?"
      ]
    },
    {
      "cell_type": "markdown",
      "metadata": {
        "id": "vKxqtVrWJDFC"
      },
      "source": [
        "### Derivative of a tensor operation: the gradient"
      ]
    },
    {
      "cell_type": "markdown",
      "metadata": {
        "id": "Q-LiukUuJDFC"
      },
      "source": [
        "### Stochastic gradient descent"
      ]
    },
    {
      "cell_type": "markdown",
      "metadata": {
        "id": "aTdpHAXRJDFC"
      },
      "source": [
        "### Chaining derivatives: The Backpropagation algorithm"
      ]
    },
    {
      "cell_type": "markdown",
      "metadata": {
        "id": "4_FIvrO2JDFD"
      },
      "source": [
        "#### The chain rule"
      ]
    },
    {
      "cell_type": "markdown",
      "metadata": {
        "id": "erR7AXI7JDFD"
      },
      "source": [
        "#### Automatic differentiation with computation graphs"
      ]
    },
    {
      "cell_type": "markdown",
      "metadata": {
        "id": "AXj6zy4cJDFD"
      },
      "source": [
        "#### The gradient tape in TensorFlow"
      ]
    },
    {
      "cell_type": "code",
      "execution_count": null,
      "metadata": {
        "id": "K7cWJfNCJDFD"
      },
      "outputs": [],
      "source": [
        "import tensorflow as tf\n",
        "x = tf.Variable(0.)\n",
        "with tf.GradientTape() as tape:\n",
        "    y = 2 * x + 3\n",
        "grad_of_y_wrt_x = tape.gradient(y, x)"
      ]
    },
    {
      "cell_type": "code",
      "execution_count": null,
      "metadata": {
        "id": "NQDzrsVvJDFD"
      },
      "outputs": [],
      "source": [
        "x = tf.Variable(tf.random.uniform((2, 2)))\n",
        "with tf.GradientTape() as tape:\n",
        "    y = 2 * x + 3\n",
        "grad_of_y_wrt_x = tape.gradient(y, x)"
      ]
    },
    {
      "cell_type": "code",
      "execution_count": null,
      "metadata": {
        "id": "zCm-CwQ1JDFD"
      },
      "outputs": [],
      "source": [
        "W = tf.Variable(tf.random.uniform((2, 2)))\n",
        "b = tf.Variable(tf.zeros((2,)))\n",
        "x = tf.random.uniform((2, 2))\n",
        "with tf.GradientTape() as tape:\n",
        "    y = tf.matmul(x, W) + b\n",
        "grad_of_y_wrt_W_and_b = tape.gradient(y, [W, b])"
      ]
    },
    {
      "cell_type": "markdown",
      "metadata": {
        "id": "DQsmDlVFJDFD"
      },
      "source": [
        "## Looking back at our first example"
      ]
    },
    {
      "cell_type": "code",
      "execution_count": null,
      "metadata": {
        "id": "QniK4S3dJDFD"
      },
      "outputs": [],
      "source": [
        "(train_images, train_labels), (test_images, test_labels) = mnist.load_data()\n",
        "train_images = train_images.reshape((60000, 28 * 28))\n",
        "train_images = train_images.astype(\"float32\") / 255\n",
        "test_images = test_images.reshape((10000, 28 * 28))\n",
        "test_images = test_images.astype(\"float32\") / 255"
      ]
    },
    {
      "cell_type": "code",
      "execution_count": null,
      "metadata": {
        "id": "TZuWZgNpJDFD"
      },
      "outputs": [],
      "source": [
        "model = keras.Sequential([\n",
        "    layers.Dense(512, activation=\"relu\"),\n",
        "    layers.Dense(10, activation=\"softmax\")\n",
        "])"
      ]
    },
    {
      "cell_type": "code",
      "execution_count": null,
      "metadata": {
        "id": "EBlGt18vJDFD"
      },
      "outputs": [],
      "source": [
        "model.compile(optimizer=\"rmsprop\",\n",
        "              loss=\"sparse_categorical_crossentropy\",\n",
        "              metrics=[\"accuracy\"])"
      ]
    },
    {
      "cell_type": "code",
      "execution_count": null,
      "metadata": {
        "id": "QJFWnZPwJDFE"
      },
      "outputs": [],
      "source": [
        "model.fit(train_images, train_labels, epochs=5, batch_size=128)"
      ]
    },
    {
      "cell_type": "markdown",
      "metadata": {
        "id": "J3xwwAwTJDFE"
      },
      "source": [
        "### Reimplementing our first example from scratch in TensorFlow"
      ]
    },
    {
      "cell_type": "markdown",
      "metadata": {
        "id": "EXPva-O_JDFE"
      },
      "source": [
        "#### A simple Dense class"
      ]
    },
    {
      "cell_type": "code",
      "execution_count": null,
      "metadata": {
        "id": "8KajhjC9JDFE"
      },
      "outputs": [],
      "source": [
        "import tensorflow as tf\n",
        "\n",
        "class NaiveDense:\n",
        "    def __init__(self, input_size, output_size, activation):\n",
        "        self.activation = activation\n",
        "\n",
        "        w_shape = (input_size, output_size)\n",
        "        w_initial_value = tf.random.uniform(w_shape, minval=0, maxval=1e-1)\n",
        "        self.W = tf.Variable(w_initial_value)\n",
        "\n",
        "        b_shape = (output_size,)\n",
        "        b_initial_value = tf.zeros(b_shape)\n",
        "        self.b = tf.Variable(b_initial_value)\n",
        "\n",
        "    def __call__(self, inputs):\n",
        "        return self.activation(tf.matmul(inputs, self.W) + self.b)\n",
        "\n",
        "    @property\n",
        "    def weights(self):\n",
        "        return [self.W, self.b]"
      ]
    },
    {
      "cell_type": "markdown",
      "metadata": {
        "id": "thRaKp6tJDFE"
      },
      "source": [
        "#### A simple Sequential class"
      ]
    },
    {
      "cell_type": "code",
      "execution_count": null,
      "metadata": {
        "id": "7E-5OEy7JDFE"
      },
      "outputs": [],
      "source": [
        "class NaiveSequential:\n",
        "    def __init__(self, layers):\n",
        "        self.layers = layers\n",
        "\n",
        "    def __call__(self, inputs):\n",
        "        x = inputs\n",
        "        for layer in self.layers:\n",
        "           x = layer(x)\n",
        "        return x\n",
        "\n",
        "    @property\n",
        "    def weights(self):\n",
        "       weights = []\n",
        "       for layer in self.layers:\n",
        "           weights += layer.weights\n",
        "       return weights"
      ]
    },
    {
      "cell_type": "code",
      "execution_count": null,
      "metadata": {
        "id": "YPX0ibcrJDFE"
      },
      "outputs": [],
      "source": [
        "model = NaiveSequential([\n",
        "    NaiveDense(input_size=28 * 28, output_size=512, activation=tf.nn.relu),\n",
        "    NaiveDense(input_size=512, output_size=10, activation=tf.nn.softmax)\n",
        "])\n",
        "assert len(model.weights) == 4"
      ]
    },
    {
      "cell_type": "markdown",
      "metadata": {
        "id": "psenHvLUJDFE"
      },
      "source": [
        "#### A batch generator"
      ]
    },
    {
      "cell_type": "code",
      "execution_count": null,
      "metadata": {
        "id": "VIlTJwzfJDFE"
      },
      "outputs": [],
      "source": [
        "import math\n",
        "\n",
        "class BatchGenerator:\n",
        "    def __init__(self, images, labels, batch_size=128):\n",
        "        assert len(images) == len(labels)\n",
        "        self.index = 0\n",
        "        self.images = images\n",
        "        self.labels = labels\n",
        "        self.batch_size = batch_size\n",
        "        self.num_batches = math.ceil(len(images) / batch_size)\n",
        "\n",
        "    def next(self):\n",
        "        images = self.images[self.index : self.index + self.batch_size]\n",
        "        labels = self.labels[self.index : self.index + self.batch_size]\n",
        "        self.index += self.batch_size\n",
        "        return images, labels"
      ]
    },
    {
      "cell_type": "markdown",
      "metadata": {
        "id": "I9FWf7L-JDFF"
      },
      "source": [
        "### Running one training step"
      ]
    },
    {
      "cell_type": "code",
      "execution_count": null,
      "metadata": {
        "id": "3P_It40fJDFF"
      },
      "outputs": [],
      "source": [
        "def one_training_step(model, images_batch, labels_batch):\n",
        "    with tf.GradientTape() as tape:\n",
        "        predictions = model(images_batch)\n",
        "        per_sample_losses = tf.keras.losses.sparse_categorical_crossentropy(\n",
        "            labels_batch, predictions)\n",
        "        average_loss = tf.reduce_mean(per_sample_losses)\n",
        "    gradients = tape.gradient(average_loss, model.weights)\n",
        "    update_weights(gradients, model.weights)\n",
        "    return average_loss"
      ]
    },
    {
      "cell_type": "code",
      "execution_count": null,
      "metadata": {
        "id": "RzaEIjtxJDFF"
      },
      "outputs": [],
      "source": [
        "learning_rate = 1e-3\n",
        "\n",
        "def update_weights(gradients, weights):\n",
        "    for g, w in zip(gradients, weights):\n",
        "        w.assign_sub(g * learning_rate)"
      ]
    },
    {
      "cell_type": "code",
      "execution_count": null,
      "metadata": {
        "id": "QgFv0XkoJDFF"
      },
      "outputs": [],
      "source": [
        "from tensorflow.keras import optimizers\n",
        "\n",
        "optimizer = optimizers.SGD(learning_rate=1e-3)\n",
        "\n",
        "def update_weights(gradients, weights):\n",
        "    optimizer.apply_gradients(zip(gradients, weights))"
      ]
    },
    {
      "cell_type": "markdown",
      "metadata": {
        "id": "nkXYH9iLJDFF"
      },
      "source": [
        "### The full training loop"
      ]
    },
    {
      "cell_type": "code",
      "execution_count": null,
      "metadata": {
        "id": "6DzS4HxXJDFF"
      },
      "outputs": [],
      "source": [
        "def fit(model, images, labels, epochs, batch_size=128):\n",
        "    for epoch_counter in range(epochs):\n",
        "        print(f\"Epoch {epoch_counter}\")\n",
        "        batch_generator = BatchGenerator(images, labels)\n",
        "        for batch_counter in range(batch_generator.num_batches):\n",
        "            images_batch, labels_batch = batch_generator.next()\n",
        "            loss = one_training_step(model, images_batch, labels_batch)\n",
        "            if batch_counter % 100 == 0:\n",
        "                print(f\"loss at batch {batch_counter}: {loss:.2f}\")"
      ]
    },
    {
      "cell_type": "code",
      "execution_count": null,
      "metadata": {
        "id": "FNrrq4nGJDFF"
      },
      "outputs": [],
      "source": [
        "from tensorflow.keras.datasets import mnist\n",
        "(train_images, train_labels), (test_images, test_labels) = mnist.load_data()\n",
        "\n",
        "train_images = train_images.reshape((60000, 28 * 28))\n",
        "train_images = train_images.astype(\"float32\") / 255\n",
        "test_images = test_images.reshape((10000, 28 * 28))\n",
        "test_images = test_images.astype(\"float32\") / 255\n",
        "\n",
        "fit(model, train_images, train_labels, epochs=10, batch_size=128)"
      ]
    },
    {
      "cell_type": "markdown",
      "metadata": {
        "id": "PErWzUN0JDFF"
      },
      "source": [
        "### Evaluating the model"
      ]
    },
    {
      "cell_type": "code",
      "execution_count": null,
      "metadata": {
        "id": "Std-J6KjJDFG"
      },
      "outputs": [],
      "source": [
        "predictions = model(test_images)\n",
        "predictions = predictions.numpy()\n",
        "predicted_labels = np.argmax(predictions, axis=1)\n",
        "matches = predicted_labels == test_labels\n",
        "print(f\"accuracy: {matches.mean():.2f}\")"
      ]
    },
    {
      "cell_type": "markdown",
      "metadata": {
        "id": "3Z05eIuLJDFG"
      },
      "source": [
        "## Summary"
      ]
    }
  ],
  "metadata": {
    "colab": {
      "provenance": [],
      "toc_visible": true,
      "gpuType": "T4",
      "include_colab_link": true
    },
    "kernelspec": {
      "display_name": "Python 3",
      "name": "python3"
    },
    "language_info": {
      "codemirror_mode": {
        "name": "ipython",
        "version": 3
      },
      "file_extension": ".py",
      "mimetype": "text/x-python",
      "name": "python",
      "nbconvert_exporter": "python",
      "pygments_lexer": "ipython3",
      "version": "3.7.0"
    },
    "accelerator": "GPU"
  },
  "nbformat": 4,
  "nbformat_minor": 0
}