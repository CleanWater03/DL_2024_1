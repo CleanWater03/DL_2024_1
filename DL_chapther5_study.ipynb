{
  "cells": [
    {
      "cell_type": "markdown",
      "metadata": {
        "id": "view-in-github",
        "colab_type": "text"
      },
      "source": [
        "<a href=\"https://colab.research.google.com/github/CleanWater03/DL_2024_1/blob/main/DL_chapther5_study.ipynb\" target=\"_parent\"><img src=\"https://colab.research.google.com/assets/colab-badge.svg\" alt=\"Open In Colab\"/></a>"
      ]
    },
    {
      "cell_type": "markdown",
      "metadata": {
        "id": "b_MPZbRHKKTO"
      },
      "source": [
        "This is a companion notebook for the book [Deep Learning with Python, Second Edition](https://www.manning.com/books/deep-learning-with-python-second-edition?a_aid=keras&a_bid=76564dff). For readability, it only contains runnable code blocks and section titles, and omits everything else in the book: text paragraphs, figures, and pseudocode.\n",
        "\n",
        "**If you want to be able to follow what's going on, I recommend reading the notebook side by side with your copy of the book.**\n",
        "\n",
        "This notebook was generated for TensorFlow 2.6."
      ]
    },
    {
      "cell_type": "markdown",
      "metadata": {
        "id": "dV8ijrrlKKTT"
      },
      "source": [
        "# Fundamentals of machine learning"
      ]
    },
    {
      "cell_type": "markdown",
      "source": [
        "학습 목표\n",
        "- 머신 러닝의 근본 문제인 일반화와 최적화 사이의 긴장 관계 이해\n",
        "- 머신 러닝 모델의 평가 방법\n",
        "- 훈련 성능 향상을 위한 사례\n",
        "- 일반화 성능 향상을 위한 사례"
      ],
      "metadata": {
        "id": "vrxu2NBCK2zS"
      }
    },
    {
      "cell_type": "markdown",
      "metadata": {
        "id": "Pxax4EkAKKTU"
      },
      "source": [
        "## Generalization: The goal of machine learning"
      ]
    },
    {
      "cell_type": "markdown",
      "metadata": {
        "id": "fNo039aWKKTU"
      },
      "source": [
        "### Underfitting and overfitting"
      ]
    },
    {
      "cell_type": "markdown",
      "metadata": {
        "id": "qqI_JnXYKKTV"
      },
      "source": [
        "#### Noisy training data"
      ]
    },
    {
      "cell_type": "markdown",
      "metadata": {
        "id": "pdHdtTSeKKTV"
      },
      "source": [
        "#### Ambiguous features"
      ]
    },
    {
      "cell_type": "markdown",
      "metadata": {
        "id": "ePzYZD2cKKTV"
      },
      "source": [
        "#### Rare features and spurious correlations"
      ]
    },
    {
      "cell_type": "markdown",
      "metadata": {
        "id": "VU9h-ZZ9KKTW"
      },
      "source": [
        "**Adding white-noise channels or all-zeros channels to MNIST**"
      ]
    },
    {
      "cell_type": "code",
      "execution_count": null,
      "metadata": {
        "id": "kb3MQXHVKKTW",
        "colab": {
          "base_uri": "https://localhost:8080/"
        },
        "outputId": "66338304-a2f4-4a51-8b5b-ceff79055c3f"
      },
      "outputs": [
        {
          "output_type": "stream",
          "name": "stdout",
          "text": [
            "Downloading data from https://storage.googleapis.com/tensorflow/tf-keras-datasets/mnist.npz\n",
            "11490434/11490434 [==============================] - 0s 0us/step\n"
          ]
        }
      ],
      "source": [
        "from tensorflow.keras.datasets import mnist\n",
        "import numpy as np\n",
        "\n",
        "(train_images, train_labels), _ = mnist.load_data()\n",
        "train_images = train_images.reshape((60000, 28 * 28))\n",
        "train_images = train_images.astype(\"float32\") / 255\n",
        "\n",
        "train_images_with_noise_channels = np.concatenate(\n",
        "    [train_images, np.random.random((len(train_images), 784))], axis=1)\n",
        "\n",
        "train_images_with_zeros_channels = np.concatenate(\n",
        "    [train_images, np.zeros((len(train_images), 784))], axis=1)"
      ]
    },
    {
      "cell_type": "markdown",
      "source": [
        "이 두 훈련 세트에서 2장의 모델을 훈련."
      ],
      "metadata": {
        "id": "PMNlvjtELjy6"
      }
    },
    {
      "cell_type": "markdown",
      "metadata": {
        "id": "UP6TStUpKKTY"
      },
      "source": [
        "**Training the same model on MNIST data with noise channels or all-zero channels**"
      ]
    },
    {
      "cell_type": "code",
      "execution_count": null,
      "metadata": {
        "id": "yXAl5RtgKKTY",
        "colab": {
          "base_uri": "https://localhost:8080/"
        },
        "outputId": "c17101e4-0489-4a97-edb4-efb5562477b8"
      },
      "outputs": [
        {
          "output_type": "stream",
          "name": "stdout",
          "text": [
            "Epoch 1/10\n",
            "375/375 [==============================] - 8s 10ms/step - loss: 0.5985 - accuracy: 0.8167 - val_loss: 0.4422 - val_accuracy: 0.8527\n",
            "Epoch 2/10\n",
            "375/375 [==============================] - 1s 4ms/step - loss: 0.2546 - accuracy: 0.9209 - val_loss: 0.2004 - val_accuracy: 0.9396\n",
            "Epoch 3/10\n",
            "375/375 [==============================] - 1s 4ms/step - loss: 0.1648 - accuracy: 0.9494 - val_loss: 0.1774 - val_accuracy: 0.9452\n",
            "Epoch 4/10\n",
            "375/375 [==============================] - 1s 4ms/step - loss: 0.1195 - accuracy: 0.9629 - val_loss: 0.1574 - val_accuracy: 0.9533\n",
            "Epoch 5/10\n",
            "375/375 [==============================] - 1s 3ms/step - loss: 0.0879 - accuracy: 0.9726 - val_loss: 0.1460 - val_accuracy: 0.9577\n",
            "Epoch 6/10\n",
            "375/375 [==============================] - 1s 4ms/step - loss: 0.0643 - accuracy: 0.9800 - val_loss: 0.1191 - val_accuracy: 0.9667\n",
            "Epoch 7/10\n",
            "375/375 [==============================] - 1s 3ms/step - loss: 0.0482 - accuracy: 0.9845 - val_loss: 0.1344 - val_accuracy: 0.9628\n",
            "Epoch 8/10\n",
            "375/375 [==============================] - 1s 3ms/step - loss: 0.0354 - accuracy: 0.9888 - val_loss: 0.1305 - val_accuracy: 0.9649\n",
            "Epoch 9/10\n",
            "375/375 [==============================] - 1s 3ms/step - loss: 0.0249 - accuracy: 0.9926 - val_loss: 0.1186 - val_accuracy: 0.9694\n",
            "Epoch 10/10\n",
            "375/375 [==============================] - 2s 4ms/step - loss: 0.0189 - accuracy: 0.9942 - val_loss: 0.1430 - val_accuracy: 0.9686\n",
            "Epoch 1/10\n",
            "375/375 [==============================] - 2s 4ms/step - loss: 0.2952 - accuracy: 0.9149 - val_loss: 0.1518 - val_accuracy: 0.9565\n",
            "Epoch 2/10\n",
            "375/375 [==============================] - 1s 3ms/step - loss: 0.1224 - accuracy: 0.9639 - val_loss: 0.1096 - val_accuracy: 0.9682\n",
            "Epoch 3/10\n",
            "375/375 [==============================] - 1s 4ms/step - loss: 0.0809 - accuracy: 0.9758 - val_loss: 0.0906 - val_accuracy: 0.9731\n",
            "Epoch 4/10\n",
            "375/375 [==============================] - 1s 3ms/step - loss: 0.0583 - accuracy: 0.9824 - val_loss: 0.0781 - val_accuracy: 0.9754\n",
            "Epoch 5/10\n",
            "375/375 [==============================] - 1s 3ms/step - loss: 0.0438 - accuracy: 0.9865 - val_loss: 0.0785 - val_accuracy: 0.9769\n",
            "Epoch 6/10\n",
            "375/375 [==============================] - 1s 3ms/step - loss: 0.0324 - accuracy: 0.9904 - val_loss: 0.0838 - val_accuracy: 0.9745\n",
            "Epoch 7/10\n",
            "375/375 [==============================] - 1s 4ms/step - loss: 0.0242 - accuracy: 0.9935 - val_loss: 0.0778 - val_accuracy: 0.9781\n",
            "Epoch 8/10\n",
            "375/375 [==============================] - 2s 4ms/step - loss: 0.0190 - accuracy: 0.9949 - val_loss: 0.0689 - val_accuracy: 0.9806\n",
            "Epoch 9/10\n",
            "375/375 [==============================] - 1s 4ms/step - loss: 0.0135 - accuracy: 0.9967 - val_loss: 0.0792 - val_accuracy: 0.9778\n",
            "Epoch 10/10\n",
            "375/375 [==============================] - 1s 3ms/step - loss: 0.0103 - accuracy: 0.9977 - val_loss: 0.0788 - val_accuracy: 0.9786\n"
          ]
        }
      ],
      "source": [
        "from tensorflow import keras\n",
        "from tensorflow.keras import layers\n",
        "\n",
        "def get_model():\n",
        "    model = keras.Sequential([\n",
        "        layers.Dense(512, activation=\"relu\"),\n",
        "        layers.Dense(10, activation=\"softmax\")\n",
        "    ])\n",
        "    model.compile(optimizer=\"rmsprop\",\n",
        "                  loss=\"sparse_categorical_crossentropy\",\n",
        "                  metrics=[\"accuracy\"])\n",
        "    return model\n",
        "\n",
        "model = get_model()\n",
        "history_noise = model.fit(\n",
        "    train_images_with_noise_channels, train_labels,\n",
        "    epochs=10,\n",
        "    batch_size=128,\n",
        "    validation_split=0.2)\n",
        "\n",
        "model = get_model()\n",
        "history_zeros = model.fit(\n",
        "    train_images_with_zeros_channels, train_labels,\n",
        "    epochs=10,\n",
        "    batch_size=128,\n",
        "    validation_split=0.2)"
      ]
    },
    {
      "cell_type": "markdown",
      "metadata": {
        "id": "M8iyVVqMKKTZ"
      },
      "source": [
        "**Plotting a validation accuracy comparison**\n",
        "- 시간에 따른 각 모델의 검증 정확도 변화 비교."
      ]
    },
    {
      "cell_type": "code",
      "execution_count": null,
      "metadata": {
        "id": "TifhE4KaKKTZ",
        "colab": {
          "base_uri": "https://localhost:8080/",
          "height": 490
        },
        "outputId": "88cbab0c-4b7b-4308-df44-b504e4a40b4d"
      },
      "outputs": [
        {
          "output_type": "execute_result",
          "data": {
            "text/plain": [
              "<matplotlib.legend.Legend at 0x7b20c244f9a0>"
            ]
          },
          "metadata": {},
          "execution_count": 4
        },
        {
          "output_type": "display_data",
          "data": {
            "text/plain": [
              "<Figure size 640x480 with 1 Axes>"
            ],
            "image/png": "[encoded data removed]"
          },
          "metadata": {}
        }
      ],
      "source": [
        "import matplotlib.pyplot as plt\n",
        "val_acc_noise = history_noise.history[\"val_accuracy\"]\n",
        "val_acc_zeros = history_zeros.history[\"val_accuracy\"]\n",
        "epochs = range(1, 11)\n",
        "plt.plot(epochs, val_acc_noise, \"b-\",\n",
        "         label=\"Validation accuracy with noise channels\")\n",
        "plt.plot(epochs, val_acc_zeros, \"b--\",\n",
        "         label=\"Validation accuracy with zeros channels\")\n",
        "plt.title(\"Effect of noise channels on validation accuracy\")\n",
        "plt.xlabel(\"Epochs\")\n",
        "plt.ylabel(\"Accuracy\")\n",
        "plt.legend()"
      ]
    },
    {
      "cell_type": "markdown",
      "metadata": {
        "id": "Jl0wvzrZKKTZ"
      },
      "source": [
        "### The nature of generalization in deep learning"
      ]
    },
    {
      "cell_type": "markdown",
      "metadata": {
        "id": "iVcPn93wKKTZ"
      },
      "source": [
        "**Fitting a MNIST model with randomly shuffled labels**"
      ]
    },
    {
      "cell_type": "code",
      "execution_count": null,
      "metadata": {
        "id": "MG4-TnojKKTa",
        "colab": {
          "base_uri": "https://localhost:8080/"
        },
        "outputId": "853c74a7-ca9d-45fd-a311-359beff68c2c"
      },
      "outputs": [
        {
          "output_type": "stream",
          "name": "stdout",
          "text": [
            "Epoch 1/100\n",
            "375/375 [==============================] - 2s 4ms/step - loss: 2.3159 - accuracy: 0.1028 - val_loss: 2.3031 - val_accuracy: 0.1030\n",
            "Epoch 2/100\n",
            "375/375 [==============================] - 1s 3ms/step - loss: 2.2994 - accuracy: 0.1158 - val_loss: 2.3079 - val_accuracy: 0.1028\n",
            "Epoch 3/100\n",
            "375/375 [==============================] - 1s 3ms/step - loss: 2.2919 - accuracy: 0.1266 - val_loss: 2.3139 - val_accuracy: 0.1060\n",
            "Epoch 4/100\n",
            "375/375 [==============================] - 2s 4ms/step - loss: 2.2796 - accuracy: 0.1383 - val_loss: 2.3253 - val_accuracy: 0.1003\n",
            "Epoch 5/100\n",
            "375/375 [==============================] - 1s 4ms/step - loss: 2.2634 - accuracy: 0.1500 - val_loss: 2.3361 - val_accuracy: 0.0996\n",
            "Epoch 6/100\n",
            "375/375 [==============================] - 2s 6ms/step - loss: 2.2435 - accuracy: 0.1654 - val_loss: 2.3470 - val_accuracy: 0.0988\n",
            "Epoch 7/100\n",
            "375/375 [==============================] - 2s 6ms/step - loss: 2.2197 - accuracy: 0.1812 - val_loss: 2.3613 - val_accuracy: 0.0993\n",
            "Epoch 8/100\n",
            "375/375 [==============================] - 2s 6ms/step - loss: 2.1940 - accuracy: 0.1947 - val_loss: 2.3707 - val_accuracy: 0.1002\n",
            "Epoch 9/100\n",
            "375/375 [==============================] - 1s 4ms/step - loss: 2.1633 - accuracy: 0.2138 - val_loss: 2.3979 - val_accuracy: 0.1002\n",
            "Epoch 10/100\n",
            "375/375 [==============================] - 1s 3ms/step - loss: 2.1312 - accuracy: 0.2308 - val_loss: 2.4099 - val_accuracy: 0.1059\n",
            "Epoch 11/100\n",
            "375/375 [==============================] - 2s 4ms/step - loss: 2.0950 - accuracy: 0.2467 - val_loss: 2.4415 - val_accuracy: 0.1027\n",
            "Epoch 12/100\n",
            "375/375 [==============================] - 1s 3ms/step - loss: 2.0594 - accuracy: 0.2646 - val_loss: 2.4650 - val_accuracy: 0.1053\n",
            "Epoch 13/100\n",
            "375/375 [==============================] - 1s 3ms/step - loss: 2.0219 - accuracy: 0.2824 - val_loss: 2.4938 - val_accuracy: 0.0995\n",
            "Epoch 14/100\n",
            "375/375 [==============================] - 1s 3ms/step - loss: 1.9830 - accuracy: 0.2992 - val_loss: 2.5240 - val_accuracy: 0.1033\n",
            "Epoch 15/100\n",
            "375/375 [==============================] - 1s 3ms/step - loss: 1.9449 - accuracy: 0.3151 - val_loss: 2.5557 - val_accuracy: 0.1030\n",
            "Epoch 16/100\n",
            "375/375 [==============================] - 1s 3ms/step - loss: 1.9050 - accuracy: 0.3306 - val_loss: 2.6001 - val_accuracy: 0.1023\n",
            "Epoch 17/100\n",
            "375/375 [==============================] - 1s 3ms/step - loss: 1.8665 - accuracy: 0.3483 - val_loss: 2.6306 - val_accuracy: 0.1012\n",
            "Epoch 18/100\n",
            "375/375 [==============================] - 1s 3ms/step - loss: 1.8261 - accuracy: 0.3655 - val_loss: 2.6666 - val_accuracy: 0.0986\n",
            "Epoch 19/100\n",
            "375/375 [==============================] - 1s 3ms/step - loss: 1.7880 - accuracy: 0.3798 - val_loss: 2.7021 - val_accuracy: 0.1019\n",
            "Epoch 20/100\n",
            "375/375 [==============================] - 1s 4ms/step - loss: 1.7499 - accuracy: 0.3944 - val_loss: 2.7447 - val_accuracy: 0.1010\n",
            "Epoch 21/100\n",
            "375/375 [==============================] - 2s 4ms/step - loss: 1.7112 - accuracy: 0.4096 - val_loss: 2.7958 - val_accuracy: 0.1020\n",
            "Epoch 22/100\n",
            "375/375 [==============================] - 1s 4ms/step - loss: 1.6736 - accuracy: 0.4247 - val_loss: 2.8374 - val_accuracy: 0.0999\n",
            "Epoch 23/100\n",
            "375/375 [==============================] - 2s 4ms/step - loss: 1.6364 - accuracy: 0.4374 - val_loss: 2.9001 - val_accuracy: 0.0991\n",
            "Epoch 24/100\n",
            "375/375 [==============================] - 1s 4ms/step - loss: 1.6013 - accuracy: 0.4522 - val_loss: 2.9192 - val_accuracy: 0.1047\n",
            "Epoch 25/100\n",
            "375/375 [==============================] - 1s 3ms/step - loss: 1.5666 - accuracy: 0.4653 - val_loss: 2.9623 - val_accuracy: 0.0972\n",
            "Epoch 26/100\n",
            "375/375 [==============================] - 1s 3ms/step - loss: 1.5331 - accuracy: 0.4780 - val_loss: 3.0398 - val_accuracy: 0.0998\n",
            "Epoch 27/100\n",
            "375/375 [==============================] - 1s 3ms/step - loss: 1.5017 - accuracy: 0.4868 - val_loss: 3.0713 - val_accuracy: 0.0991\n",
            "Epoch 28/100\n",
            "375/375 [==============================] - 1s 3ms/step - loss: 1.4668 - accuracy: 0.5015 - val_loss: 3.1063 - val_accuracy: 0.1018\n",
            "Epoch 29/100\n",
            "375/375 [==============================] - 1s 4ms/step - loss: 1.4340 - accuracy: 0.5149 - val_loss: 3.1724 - val_accuracy: 0.0944\n",
            "Epoch 30/100\n",
            "375/375 [==============================] - 2s 5ms/step - loss: 1.4040 - accuracy: 0.5263 - val_loss: 3.2119 - val_accuracy: 0.0991\n",
            "Epoch 31/100\n",
            "375/375 [==============================] - 1s 3ms/step - loss: 1.3730 - accuracy: 0.5358 - val_loss: 3.2643 - val_accuracy: 0.1000\n",
            "Epoch 32/100\n",
            "375/375 [==============================] - 1s 3ms/step - loss: 1.3445 - accuracy: 0.5456 - val_loss: 3.3006 - val_accuracy: 0.1011\n",
            "Epoch 33/100\n",
            "375/375 [==============================] - 1s 3ms/step - loss: 1.3172 - accuracy: 0.5574 - val_loss: 3.3891 - val_accuracy: 0.0983\n",
            "Epoch 34/100\n",
            "375/375 [==============================] - 1s 3ms/step - loss: 1.2861 - accuracy: 0.5690 - val_loss: 3.4558 - val_accuracy: 0.0991\n",
            "Epoch 35/100\n",
            "375/375 [==============================] - 1s 3ms/step - loss: 1.2595 - accuracy: 0.5789 - val_loss: 3.5054 - val_accuracy: 0.0991\n",
            "Epoch 36/100\n",
            "375/375 [==============================] - 1s 3ms/step - loss: 1.2323 - accuracy: 0.5875 - val_loss: 3.5542 - val_accuracy: 0.1001\n",
            "Epoch 37/100\n",
            "375/375 [==============================] - 1s 3ms/step - loss: 1.2070 - accuracy: 0.5948 - val_loss: 3.6161 - val_accuracy: 0.1000\n",
            "Epoch 38/100\n",
            "375/375 [==============================] - 1s 3ms/step - loss: 1.1826 - accuracy: 0.6040 - val_loss: 3.6357 - val_accuracy: 0.0985\n",
            "Epoch 39/100\n",
            "375/375 [==============================] - 1s 4ms/step - loss: 1.1583 - accuracy: 0.6123 - val_loss: 3.7133 - val_accuracy: 0.0990\n",
            "Epoch 40/100\n",
            "375/375 [==============================] - 2s 4ms/step - loss: 1.1320 - accuracy: 0.6226 - val_loss: 3.7569 - val_accuracy: 0.1018\n",
            "Epoch 41/100\n",
            "375/375 [==============================] - 1s 3ms/step - loss: 1.1084 - accuracy: 0.6312 - val_loss: 3.8139 - val_accuracy: 0.1006\n",
            "Epoch 42/100\n",
            "375/375 [==============================] - 1s 3ms/step - loss: 1.0897 - accuracy: 0.6369 - val_loss: 3.8820 - val_accuracy: 0.1015\n",
            "Epoch 43/100\n",
            "375/375 [==============================] - 1s 3ms/step - loss: 1.0622 - accuracy: 0.6469 - val_loss: 3.9428 - val_accuracy: 0.1047\n",
            "Epoch 44/100\n",
            "375/375 [==============================] - 1s 3ms/step - loss: 1.0408 - accuracy: 0.6543 - val_loss: 4.0416 - val_accuracy: 0.1012\n",
            "Epoch 45/100\n",
            "375/375 [==============================] - 1s 3ms/step - loss: 1.0193 - accuracy: 0.6637 - val_loss: 4.0812 - val_accuracy: 0.0997\n",
            "Epoch 46/100\n",
            "375/375 [==============================] - 1s 3ms/step - loss: 0.9989 - accuracy: 0.6706 - val_loss: 4.1126 - val_accuracy: 0.1017\n",
            "Epoch 47/100\n",
            "375/375 [==============================] - 1s 3ms/step - loss: 0.9770 - accuracy: 0.6770 - val_loss: 4.1955 - val_accuracy: 0.0998\n",
            "Epoch 48/100\n",
            "375/375 [==============================] - 1s 3ms/step - loss: 0.9587 - accuracy: 0.6848 - val_loss: 4.2640 - val_accuracy: 0.1023\n",
            "Epoch 49/100\n",
            "375/375 [==============================] - 2s 4ms/step - loss: 0.9393 - accuracy: 0.6896 - val_loss: 4.3693 - val_accuracy: 0.0991\n",
            "Epoch 50/100\n",
            "375/375 [==============================] - 2s 4ms/step - loss: 0.9206 - accuracy: 0.6979 - val_loss: 4.3733 - val_accuracy: 0.0990\n",
            "Epoch 51/100\n",
            "375/375 [==============================] - 1s 3ms/step - loss: 0.9014 - accuracy: 0.7045 - val_loss: 4.4005 - val_accuracy: 0.1012\n",
            "Epoch 52/100\n",
            "375/375 [==============================] - 1s 3ms/step - loss: 0.8815 - accuracy: 0.7111 - val_loss: 4.5237 - val_accuracy: 0.1011\n",
            "Epoch 53/100\n",
            "375/375 [==============================] - 1s 3ms/step - loss: 0.8674 - accuracy: 0.7163 - val_loss: 4.5696 - val_accuracy: 0.1004\n",
            "Epoch 54/100\n",
            "375/375 [==============================] - 1s 3ms/step - loss: 0.8482 - accuracy: 0.7229 - val_loss: 4.6782 - val_accuracy: 0.1011\n",
            "Epoch 55/100\n",
            "375/375 [==============================] - 1s 3ms/step - loss: 0.8319 - accuracy: 0.7284 - val_loss: 4.7202 - val_accuracy: 0.0988\n",
            "Epoch 56/100\n",
            "375/375 [==============================] - 1s 3ms/step - loss: 0.8170 - accuracy: 0.7362 - val_loss: 4.7889 - val_accuracy: 0.0992\n",
            "Epoch 57/100\n",
            "375/375 [==============================] - 1s 3ms/step - loss: 0.7971 - accuracy: 0.7437 - val_loss: 4.8218 - val_accuracy: 0.1016\n",
            "Epoch 58/100\n",
            "375/375 [==============================] - 1s 3ms/step - loss: 0.7830 - accuracy: 0.7452 - val_loss: 4.9152 - val_accuracy: 0.1000\n",
            "Epoch 59/100\n",
            "375/375 [==============================] - 2s 4ms/step - loss: 0.7687 - accuracy: 0.7522 - val_loss: 4.9945 - val_accuracy: 0.1014\n",
            "Epoch 60/100\n",
            "375/375 [==============================] - 1s 3ms/step - loss: 0.7533 - accuracy: 0.7570 - val_loss: 5.0488 - val_accuracy: 0.0994\n",
            "Epoch 61/100\n",
            "375/375 [==============================] - 1s 3ms/step - loss: 0.7373 - accuracy: 0.7608 - val_loss: 5.1486 - val_accuracy: 0.0988\n",
            "Epoch 62/100\n",
            "375/375 [==============================] - 1s 3ms/step - loss: 0.7246 - accuracy: 0.7658 - val_loss: 5.1929 - val_accuracy: 0.1004\n",
            "Epoch 63/100\n",
            "375/375 [==============================] - 1s 3ms/step - loss: 0.7098 - accuracy: 0.7722 - val_loss: 5.2681 - val_accuracy: 0.0994\n",
            "Epoch 64/100\n",
            "375/375 [==============================] - 1s 3ms/step - loss: 0.6965 - accuracy: 0.7736 - val_loss: 5.3019 - val_accuracy: 0.0998\n",
            "Epoch 65/100\n",
            "375/375 [==============================] - 1s 3ms/step - loss: 0.6826 - accuracy: 0.7812 - val_loss: 5.4052 - val_accuracy: 0.1002\n",
            "Epoch 66/100\n",
            "375/375 [==============================] - 1s 3ms/step - loss: 0.6691 - accuracy: 0.7844 - val_loss: 5.4533 - val_accuracy: 0.1038\n",
            "Epoch 67/100\n",
            "375/375 [==============================] - 1s 3ms/step - loss: 0.6561 - accuracy: 0.7898 - val_loss: 5.5490 - val_accuracy: 0.1009\n",
            "Epoch 68/100\n",
            "375/375 [==============================] - 1s 4ms/step - loss: 0.6435 - accuracy: 0.7933 - val_loss: 5.6417 - val_accuracy: 0.1004\n",
            "Epoch 69/100\n",
            "375/375 [==============================] - 2s 4ms/step - loss: 0.6303 - accuracy: 0.8008 - val_loss: 5.6752 - val_accuracy: 0.0993\n",
            "Epoch 70/100\n",
            "375/375 [==============================] - 1s 3ms/step - loss: 0.6207 - accuracy: 0.8014 - val_loss: 5.7498 - val_accuracy: 0.1002\n",
            "Epoch 71/100\n",
            "375/375 [==============================] - 1s 3ms/step - loss: 0.6072 - accuracy: 0.8044 - val_loss: 5.8255 - val_accuracy: 0.0975\n",
            "Epoch 72/100\n",
            "375/375 [==============================] - 1s 4ms/step - loss: 0.5962 - accuracy: 0.8104 - val_loss: 5.8809 - val_accuracy: 0.0995\n",
            "Epoch 73/100\n",
            "375/375 [==============================] - 1s 3ms/step - loss: 0.5829 - accuracy: 0.8144 - val_loss: 5.9898 - val_accuracy: 0.1009\n",
            "Epoch 74/100\n",
            "375/375 [==============================] - 1s 3ms/step - loss: 0.5736 - accuracy: 0.8157 - val_loss: 6.0269 - val_accuracy: 0.1008\n",
            "Epoch 75/100\n",
            "375/375 [==============================] - 1s 3ms/step - loss: 0.5645 - accuracy: 0.8199 - val_loss: 6.1655 - val_accuracy: 0.1023\n",
            "Epoch 76/100\n",
            "375/375 [==============================] - 1s 3ms/step - loss: 0.5524 - accuracy: 0.8248 - val_loss: 6.1845 - val_accuracy: 0.0967\n",
            "Epoch 77/100\n",
            "375/375 [==============================] - 1s 3ms/step - loss: 0.5408 - accuracy: 0.8278 - val_loss: 6.2423 - val_accuracy: 0.0994\n",
            "Epoch 78/100\n",
            "375/375 [==============================] - 2s 4ms/step - loss: 0.5320 - accuracy: 0.8309 - val_loss: 6.3173 - val_accuracy: 0.1015\n",
            "Epoch 79/100\n",
            "375/375 [==============================] - 2s 5ms/step - loss: 0.5199 - accuracy: 0.8352 - val_loss: 6.4520 - val_accuracy: 0.1017\n",
            "Epoch 80/100\n",
            "375/375 [==============================] - 1s 4ms/step - loss: 0.5112 - accuracy: 0.8389 - val_loss: 6.4901 - val_accuracy: 0.1020\n",
            "Epoch 81/100\n",
            "375/375 [==============================] - 1s 3ms/step - loss: 0.5042 - accuracy: 0.8406 - val_loss: 6.6093 - val_accuracy: 0.0981\n",
            "Epoch 82/100\n",
            "375/375 [==============================] - 1s 3ms/step - loss: 0.4931 - accuracy: 0.8443 - val_loss: 6.6183 - val_accuracy: 0.0980\n",
            "Epoch 83/100\n",
            "375/375 [==============================] - 1s 3ms/step - loss: 0.4829 - accuracy: 0.8473 - val_loss: 6.6952 - val_accuracy: 0.1009\n",
            "Epoch 84/100\n",
            "375/375 [==============================] - 1s 3ms/step - loss: 0.4747 - accuracy: 0.8499 - val_loss: 6.7460 - val_accuracy: 0.0990\n",
            "Epoch 85/100\n",
            "375/375 [==============================] - 1s 3ms/step - loss: 0.4664 - accuracy: 0.8540 - val_loss: 6.8188 - val_accuracy: 0.1030\n",
            "Epoch 86/100\n",
            "375/375 [==============================] - 1s 3ms/step - loss: 0.4565 - accuracy: 0.8562 - val_loss: 6.9580 - val_accuracy: 0.0984\n",
            "Epoch 87/100\n",
            "375/375 [==============================] - 1s 4ms/step - loss: 0.4509 - accuracy: 0.8573 - val_loss: 6.9920 - val_accuracy: 0.0985\n",
            "Epoch 88/100\n",
            "375/375 [==============================] - 2s 4ms/step - loss: 0.4429 - accuracy: 0.8620 - val_loss: 7.0239 - val_accuracy: 0.0993\n",
            "Epoch 89/100\n",
            "375/375 [==============================] - 1s 3ms/step - loss: 0.4328 - accuracy: 0.8651 - val_loss: 7.1664 - val_accuracy: 0.0997\n",
            "Epoch 90/100\n",
            "375/375 [==============================] - 1s 3ms/step - loss: 0.4216 - accuracy: 0.8679 - val_loss: 7.2526 - val_accuracy: 0.0991\n",
            "Epoch 91/100\n",
            "375/375 [==============================] - 1s 3ms/step - loss: 0.4166 - accuracy: 0.8704 - val_loss: 7.2999 - val_accuracy: 0.0977\n",
            "Epoch 92/100\n",
            "375/375 [==============================] - 1s 3ms/step - loss: 0.4077 - accuracy: 0.8739 - val_loss: 7.4098 - val_accuracy: 0.0993\n",
            "Epoch 93/100\n",
            "375/375 [==============================] - 1s 3ms/step - loss: 0.4019 - accuracy: 0.8748 - val_loss: 7.4609 - val_accuracy: 0.0988\n",
            "Epoch 94/100\n",
            "375/375 [==============================] - 1s 3ms/step - loss: 0.3960 - accuracy: 0.8775 - val_loss: 7.5292 - val_accuracy: 0.1002\n",
            "Epoch 95/100\n",
            "375/375 [==============================] - 1s 4ms/step - loss: 0.3891 - accuracy: 0.8783 - val_loss: 7.6361 - val_accuracy: 0.0995\n",
            "Epoch 96/100\n",
            "375/375 [==============================] - 1s 4ms/step - loss: 0.3815 - accuracy: 0.8824 - val_loss: 7.7459 - val_accuracy: 0.0983\n",
            "Epoch 97/100\n",
            "375/375 [==============================] - 2s 5ms/step - loss: 0.3710 - accuracy: 0.8860 - val_loss: 7.7713 - val_accuracy: 0.1007\n",
            "Epoch 98/100\n",
            "375/375 [==============================] - 1s 3ms/step - loss: 0.3671 - accuracy: 0.8867 - val_loss: 7.8407 - val_accuracy: 0.1013\n",
            "Epoch 99/100\n",
            "375/375 [==============================] - 1s 3ms/step - loss: 0.3606 - accuracy: 0.8887 - val_loss: 7.9321 - val_accuracy: 0.1032\n",
            "Epoch 100/100\n",
            "375/375 [==============================] - 1s 3ms/step - loss: 0.3548 - accuracy: 0.8893 - val_loss: 7.9712 - val_accuracy: 0.1007\n"
          ]
        },
        {
          "output_type": "execute_result",
          "data": {
            "text/plain": [
              "<keras.src.callbacks.History at 0x7b2068760cd0>"
            ]
          },
          "metadata": {},
          "execution_count": 5
        }
      ],
      "source": [
        "(train_images, train_labels), _ = mnist.load_data()\n",
        "train_images = train_images.reshape((60000, 28 * 28))\n",
        "train_images = train_images.astype(\"float32\") / 255\n",
        "\n",
        "random_train_labels = train_labels[:]\n",
        "np.random.shuffle(random_train_labels)\n",
        "# labels 셔플\n",
        "\n",
        "model = keras.Sequential([\n",
        "    layers.Dense(512, activation=\"relu\"),\n",
        "    layers.Dense(10, activation=\"softmax\")\n",
        "])\n",
        "model.compile(optimizer=\"rmsprop\",\n",
        "              loss=\"sparse_categorical_crossentropy\",\n",
        "              metrics=[\"accuracy\"])\n",
        "model.fit(train_images, random_train_labels,\n",
        "          epochs=100,\n",
        "          batch_size=128,\n",
        "          validation_split=0.2)"
      ]
    },
    {
      "cell_type": "markdown",
      "metadata": {
        "id": "_FAxVKz0KKTa"
      },
      "source": [
        "#### The manifold hypothesis"
      ]
    },
    {
      "cell_type": "markdown",
      "metadata": {
        "id": "DjUfrT78KKTa"
      },
      "source": [
        "#### Interpolation as a source of generalization"
      ]
    },
    {
      "cell_type": "markdown",
      "metadata": {
        "id": "Y4AQavyvKKTa"
      },
      "source": [
        "#### Why deep learning works"
      ]
    },
    {
      "cell_type": "markdown",
      "metadata": {
        "id": "zQJo00SRKKTa"
      },
      "source": [
        "#### Training data is paramount"
      ]
    },
    {
      "cell_type": "markdown",
      "metadata": {
        "id": "2shqdnBgKKTa"
      },
      "source": [
        "## Evaluating machine-learning models"
      ]
    },
    {
      "cell_type": "markdown",
      "metadata": {
        "id": "klZFP6oAKKTa"
      },
      "source": [
        "### Training, validation, and test sets"
      ]
    },
    {
      "cell_type": "markdown",
      "metadata": {
        "id": "TRyXlPWqKKTb"
      },
      "source": [
        "#### Simple hold-out validation"
      ]
    },
    {
      "cell_type": "markdown",
      "metadata": {
        "id": "KP0RIPxvKKTb"
      },
      "source": [
        "#### K-fold validation"
      ]
    },
    {
      "cell_type": "markdown",
      "metadata": {
        "id": "0I223XhgKKTb"
      },
      "source": [
        "#### Iterated K-fold validation with shuffling"
      ]
    },
    {
      "cell_type": "markdown",
      "metadata": {
        "id": "Cwjg4L6UKKTb"
      },
      "source": [
        "### Beating a common-sense baseline"
      ]
    },
    {
      "cell_type": "markdown",
      "metadata": {
        "id": "-pyZ2WmAKKTb"
      },
      "source": [
        "### Things to keep in mind about model evaluation"
      ]
    },
    {
      "cell_type": "markdown",
      "metadata": {
        "id": "OJluU9ijKKTb"
      },
      "source": [
        "## Improving model fit"
      ]
    },
    {
      "cell_type": "markdown",
      "metadata": {
        "id": "m3ymXIB7KKTb"
      },
      "source": [
        "### Tuning key gradient descent parameters"
      ]
    },
    {
      "cell_type": "markdown",
      "metadata": {
        "id": "ejivZ--zKKTb"
      },
      "source": [
        "**Training a MNIST model with an incorrectly high learning rate**"
      ]
    },
    {
      "cell_type": "code",
      "execution_count": null,
      "metadata": {
        "id": "81ADWK8YKKTc",
        "colab": {
          "base_uri": "https://localhost:8080/"
        },
        "outputId": "bdb695db-4f14-4063-bdb6-fcbfdfdc5029"
      },
      "outputs": [
        {
          "output_type": "stream",
          "name": "stdout",
          "text": [
            "Epoch 1/10\n",
            "375/375 [==============================] - 2s 4ms/step - loss: 773.0121 - accuracy: 0.3616 - val_loss: 2.2816 - val_accuracy: 0.1586\n",
            "Epoch 2/10\n",
            "375/375 [==============================] - 1s 3ms/step - loss: 4.0292 - accuracy: 0.2023 - val_loss: 2.3713 - val_accuracy: 0.2297\n",
            "Epoch 3/10\n",
            "375/375 [==============================] - 1s 3ms/step - loss: 2.7184 - accuracy: 0.1996 - val_loss: 3.2783 - val_accuracy: 0.1457\n",
            "Epoch 4/10\n",
            "375/375 [==============================] - 1s 3ms/step - loss: 2.5217 - accuracy: 0.1761 - val_loss: 2.2550 - val_accuracy: 0.1916\n",
            "Epoch 5/10\n",
            "375/375 [==============================] - 1s 3ms/step - loss: 2.3773 - accuracy: 0.1971 - val_loss: 2.2920 - val_accuracy: 0.1937\n",
            "Epoch 6/10\n",
            "375/375 [==============================] - 1s 3ms/step - loss: 2.2463 - accuracy: 0.1991 - val_loss: 2.5506 - val_accuracy: 0.2046\n",
            "Epoch 7/10\n",
            "375/375 [==============================] - 2s 4ms/step - loss: 2.3388 - accuracy: 0.1906 - val_loss: 2.2794 - val_accuracy: 0.1102\n",
            "Epoch 8/10\n",
            "375/375 [==============================] - 1s 3ms/step - loss: 2.4150 - accuracy: 0.1961 - val_loss: 2.3313 - val_accuracy: 0.1943\n",
            "Epoch 9/10\n",
            "375/375 [==============================] - 1s 3ms/step - loss: 2.2736 - accuracy: 0.1953 - val_loss: 2.2079 - val_accuracy: 0.1987\n",
            "Epoch 10/10\n",
            "375/375 [==============================] - 1s 3ms/step - loss: 2.3446 - accuracy: 0.1980 - val_loss: 2.2696 - val_accuracy: 0.2004\n"
          ]
        },
        {
          "output_type": "execute_result",
          "data": {
            "text/plain": [
              "<keras.src.callbacks.History at 0x7b2068745cf0>"
            ]
          },
          "metadata": {},
          "execution_count": 6
        }
      ],
      "source": [
        "(train_images, train_labels), _ = mnist.load_data()\n",
        "train_images = train_images.reshape((60000, 28 * 28))\n",
        "train_images = train_images.astype(\"float32\") / 255\n",
        "\n",
        "model = keras.Sequential([\n",
        "    layers.Dense(512, activation=\"relu\"),\n",
        "    layers.Dense(10, activation=\"softmax\")\n",
        "])\n",
        "model.compile(optimizer=keras.optimizers.RMSprop(1.),\n",
        "              loss=\"sparse_categorical_crossentropy\",\n",
        "              metrics=[\"accuracy\"])\n",
        "model.fit(train_images, train_labels,\n",
        "          epochs=10,\n",
        "          batch_size=128,\n",
        "          validation_split=0.2)"
      ]
    },
    {
      "cell_type": "markdown",
      "metadata": {
        "id": "RdvdlyKRKKTc"
      },
      "source": [
        "**The same model with a more appropriate learning rate**"
      ]
    },
    {
      "cell_type": "code",
      "execution_count": null,
      "metadata": {
        "id": "5-ivyVhrKKTc"
      },
      "outputs": [],
      "source": [
        "model = keras.Sequential([\n",
        "    layers.Dense(512, activation=\"relu\"),\n",
        "    layers.Dense(10, activation=\"softmax\")\n",
        "])\n",
        "model.compile(optimizer=keras.optimizers.RMSprop(1e-2),\n",
        "              loss=\"sparse_categorical_crossentropy\",\n",
        "              metrics=[\"accuracy\"])\n",
        "model.fit(train_images, train_labels,\n",
        "          epochs=10,\n",
        "          batch_size=128,\n",
        "          validation_split=0.2)"
      ]
    },
    {
      "cell_type": "markdown",
      "metadata": {
        "id": "6FXLSQrYKKTc"
      },
      "source": [
        "### Leveraging better architecture priors"
      ]
    },
    {
      "cell_type": "markdown",
      "metadata": {
        "id": "gtDE4LIuKKTc"
      },
      "source": [
        "### Increasing model capacity"
      ]
    },
    {
      "cell_type": "markdown",
      "metadata": {
        "id": "2fQDHCzKKKTc"
      },
      "source": [
        "**A simple logistic regression on MNIST**"
      ]
    },
    {
      "cell_type": "code",
      "execution_count": null,
      "metadata": {
        "id": "K1giQHj3KKTc"
      },
      "outputs": [],
      "source": [
        "model = keras.Sequential([layers.Dense(10, activation=\"softmax\")])\n",
        "model.compile(optimizer=\"rmsprop\",\n",
        "              loss=\"sparse_categorical_crossentropy\",\n",
        "              metrics=[\"accuracy\"])\n",
        "history_small_model = model.fit(\n",
        "    train_images, train_labels,\n",
        "    epochs=20,\n",
        "    batch_size=128,\n",
        "    validation_split=0.2)"
      ]
    },
    {
      "cell_type": "code",
      "execution_count": null,
      "metadata": {
        "id": "FOlwh4ILKKTc"
      },
      "outputs": [],
      "source": [
        "import matplotlib.pyplot as plt\n",
        "val_loss = history_small_model.history[\"val_loss\"]\n",
        "epochs = range(1, 21)\n",
        "plt.plot(epochs, val_loss, \"b--\",\n",
        "         label=\"Validation loss\")\n",
        "plt.title(\"Effect of insufficient model capacity on validation loss\")\n",
        "plt.xlabel(\"Epochs\")\n",
        "plt.ylabel(\"Loss\")\n",
        "plt.legend()"
      ]
    },
    {
      "cell_type": "code",
      "execution_count": null,
      "metadata": {
        "id": "58tm4m5_KKTd"
      },
      "outputs": [],
      "source": [
        "model = keras.Sequential([\n",
        "    layers.Dense(96, activation=\"relu\"),\n",
        "    layers.Dense(96, activation=\"relu\"),\n",
        "    layers.Dense(10, activation=\"softmax\"),\n",
        "])\n",
        "model.compile(optimizer=\"rmsprop\",\n",
        "              loss=\"sparse_categorical_crossentropy\",\n",
        "              metrics=[\"accuracy\"])\n",
        "history_large_model = model.fit(\n",
        "    train_images, train_labels,\n",
        "    epochs=20,\n",
        "    batch_size=128,\n",
        "    validation_split=0.2)"
      ]
    },
    {
      "cell_type": "markdown",
      "metadata": {
        "id": "jTweMkuIKKTh"
      },
      "source": [
        "## Improving generalization"
      ]
    },
    {
      "cell_type": "markdown",
      "metadata": {
        "id": "-G5uFHp_KKTi"
      },
      "source": [
        "### Dataset curation"
      ]
    },
    {
      "cell_type": "markdown",
      "metadata": {
        "id": "jdB-SX3vKKTi"
      },
      "source": [
        "### Feature engineering"
      ]
    },
    {
      "cell_type": "markdown",
      "metadata": {
        "id": "Vh5bpAxDKKTi"
      },
      "source": [
        "### Using early stopping"
      ]
    },
    {
      "cell_type": "markdown",
      "metadata": {
        "id": "-7znkj50KKTi"
      },
      "source": [
        "### Regularizing your model"
      ]
    },
    {
      "cell_type": "markdown",
      "metadata": {
        "id": "WBL-IFq_KKTi"
      },
      "source": [
        "#### Reducing the network's size"
      ]
    },
    {
      "cell_type": "markdown",
      "metadata": {
        "id": "OHm4_9QiKKTi"
      },
      "source": [
        "**Original model**"
      ]
    },
    {
      "cell_type": "code",
      "execution_count": null,
      "metadata": {
        "id": "XufQJiwXKKTi"
      },
      "outputs": [],
      "source": [
        "from tensorflow.keras.datasets import imdb\n",
        "(train_data, train_labels), _ = imdb.load_data(num_words=10000)\n",
        "\n",
        "def vectorize_sequences(sequences, dimension=10000):\n",
        "    results = np.zeros((len(sequences), dimension))\n",
        "    for i, sequence in enumerate(sequences):\n",
        "        results[i, sequence] = 1.\n",
        "    return results\n",
        "train_data = vectorize_sequences(train_data)\n",
        "\n",
        "model = keras.Sequential([\n",
        "    layers.Dense(16, activation=\"relu\"),\n",
        "    layers.Dense(16, activation=\"relu\"),\n",
        "    layers.Dense(1, activation=\"sigmoid\")\n",
        "])\n",
        "model.compile(optimizer=\"rmsprop\",\n",
        "              loss=\"binary_crossentropy\",\n",
        "              metrics=[\"accuracy\"])\n",
        "history_original = model.fit(train_data, train_labels,\n",
        "                             epochs=20, batch_size=512, validation_split=0.4)"
      ]
    },
    {
      "cell_type": "markdown",
      "metadata": {
        "id": "SM_tE-XSKKTi"
      },
      "source": [
        "**Version of the model with lower capacity**"
      ]
    },
    {
      "cell_type": "code",
      "execution_count": null,
      "metadata": {
        "id": "ud6gPDpkKKTj"
      },
      "outputs": [],
      "source": [
        "model = keras.Sequential([\n",
        "    layers.Dense(4, activation=\"relu\"),\n",
        "    layers.Dense(4, activation=\"relu\"),\n",
        "    layers.Dense(1, activation=\"sigmoid\")\n",
        "])\n",
        "model.compile(optimizer=\"rmsprop\",\n",
        "              loss=\"binary_crossentropy\",\n",
        "              metrics=[\"accuracy\"])\n",
        "history_smaller_model = model.fit(\n",
        "    train_data, train_labels,\n",
        "    epochs=20, batch_size=512, validation_split=0.4)"
      ]
    },
    {
      "cell_type": "markdown",
      "metadata": {
        "id": "RdOoxS9YKKTj"
      },
      "source": [
        "**Version of the model with higher capacity**"
      ]
    },
    {
      "cell_type": "code",
      "execution_count": null,
      "metadata": {
        "id": "zXcO04s9KKTj"
      },
      "outputs": [],
      "source": [
        "model = keras.Sequential([\n",
        "    layers.Dense(512, activation=\"relu\"),\n",
        "    layers.Dense(512, activation=\"relu\"),\n",
        "    layers.Dense(1, activation=\"sigmoid\")\n",
        "])\n",
        "model.compile(optimizer=\"rmsprop\",\n",
        "              loss=\"binary_crossentropy\",\n",
        "              metrics=[\"accuracy\"])\n",
        "history_larger_model = model.fit(\n",
        "    train_data, train_labels,\n",
        "    epochs=20, batch_size=512, validation_split=0.4)"
      ]
    },
    {
      "cell_type": "markdown",
      "metadata": {
        "id": "P6Ug8J6vKKTj"
      },
      "source": [
        "#### Adding weight regularization"
      ]
    },
    {
      "cell_type": "markdown",
      "metadata": {
        "id": "u0x4ywdhKKTj"
      },
      "source": [
        "**Adding L2 weight regularization to the model**"
      ]
    },
    {
      "cell_type": "code",
      "execution_count": null,
      "metadata": {
        "id": "V8UbBQVUKKTj"
      },
      "outputs": [],
      "source": [
        "from tensorflow.keras import regularizers\n",
        "model = keras.Sequential([\n",
        "    layers.Dense(16,\n",
        "                 kernel_regularizer=regularizers.l2(0.002),\n",
        "                 activation=\"relu\"),\n",
        "    layers.Dense(16,\n",
        "                 kernel_regularizer=regularizers.l2(0.002),\n",
        "                 activation=\"relu\"),\n",
        "    layers.Dense(1, activation=\"sigmoid\")\n",
        "])\n",
        "model.compile(optimizer=\"rmsprop\",\n",
        "              loss=\"binary_crossentropy\",\n",
        "              metrics=[\"accuracy\"])\n",
        "history_l2_reg = model.fit(\n",
        "    train_data, train_labels,\n",
        "    epochs=20, batch_size=512, validation_split=0.4)"
      ]
    },
    {
      "cell_type": "markdown",
      "metadata": {
        "id": "-TozxiCmKKTj"
      },
      "source": [
        "**Different weight regularizers available in Keras**"
      ]
    },
    {
      "cell_type": "code",
      "execution_count": null,
      "metadata": {
        "id": "9fZkFZCGKKTj"
      },
      "outputs": [],
      "source": [
        "from tensorflow.keras import regularizers\n",
        "regularizers.l1(0.001)\n",
        "regularizers.l1_l2(l1=0.001, l2=0.001)"
      ]
    },
    {
      "cell_type": "markdown",
      "metadata": {
        "id": "GdMUwcDPKKTj"
      },
      "source": [
        "#### Adding dropout"
      ]
    },
    {
      "cell_type": "markdown",
      "metadata": {
        "id": "0DpZ2de_KKTk"
      },
      "source": [
        "**Adding dropout to the IMDB model**"
      ]
    },
    {
      "cell_type": "code",
      "execution_count": null,
      "metadata": {
        "id": "dNpnAFr0KKTk"
      },
      "outputs": [],
      "source": [
        "model = keras.Sequential([\n",
        "    layers.Dense(16, activation=\"relu\"),\n",
        "    layers.Dropout(0.5),\n",
        "    layers.Dense(16, activation=\"relu\"),\n",
        "    layers.Dropout(0.5),\n",
        "    layers.Dense(1, activation=\"sigmoid\")\n",
        "])\n",
        "model.compile(optimizer=\"rmsprop\",\n",
        "              loss=\"binary_crossentropy\",\n",
        "              metrics=[\"accuracy\"])\n",
        "history_dropout = model.fit(\n",
        "    train_data, train_labels,\n",
        "    epochs=20, batch_size=512, validation_split=0.4)"
      ]
    },
    {
      "cell_type": "markdown",
      "metadata": {
        "id": "ZeNmO9lEKKTk"
      },
      "source": [
        "## Summary"
      ]
    }
  ],
  "metadata": {
    "colab": {
      "provenance": [],
      "toc_visible": true,
      "gpuType": "T4",
      "include_colab_link": true
    },
    "kernelspec": {
      "display_name": "Python 3",
      "name": "python3"
    },
    "language_info": {
      "codemirror_mode": {
        "name": "ipython",
        "version": 3
      },
      "file_extension": ".py",
      "mimetype": "text/x-python",
      "name": "python",
      "nbconvert_exporter": "python",
      "pygments_lexer": "ipython3",
      "version": "3.7.0"
    },
    "accelerator": "GPU"
  },
  "nbformat": 4,
  "nbformat_minor": 0
}